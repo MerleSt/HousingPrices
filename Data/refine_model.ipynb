{
 "cells": [
  {
   "cell_type": "markdown",
   "id": "38962f23-d841-413a-a183-dfe2c0a63cdc",
   "metadata": {},
   "source": [
    "# Importing Data"
   ]
  },
  {
   "cell_type": "code",
   "execution_count": 55,
   "id": "f0db283c-ac5e-444e-bbb3-1bbc413254b0",
   "metadata": {
    "tags": []
   },
   "outputs": [],
   "source": [
    "import pandas as pd\n",
    "import numpy as np\n",
    "from sklearn.impute import SimpleImputer\n",
    "from sklearn.metrics import accuracy_score\n",
    "import seaborn as sns\n",
    "import matplotlib.pyplot as plt\n",
    "from sklearn.model_selection import train_test_split\n",
    "from sklearn.tree import DecisionTreeClassifier\n",
    "from sklearn.tree import plot_tree\n",
    "from sklearn.pipeline import Pipeline\n",
    "from sklearn.pipeline import make_pipeline\n",
    "from sklearn.model_selection import GridSearchCV\n",
    "from sklearn.preprocessing import StandardScaler"
   ]
  },
  {
   "cell_type": "code",
   "execution_count": 56,
   "id": "50048c33-b3fd-4bfc-b9c7-51e200582902",
   "metadata": {
    "tags": []
   },
   "outputs": [],
   "source": [
    "houses = pd.read_csv('/Users/merlesteffen/Documents/GitHub/HousingPrices/Data/housing-classification-iter-0-2.csv')"
   ]
  },
  {
   "cell_type": "markdown",
   "id": "a7e8ffee-deac-48cf-a750-7cf5a4cfca13",
   "metadata": {
    "tags": []
   },
   "source": [
    "# Train-Test Split"
   ]
  },
  {
   "cell_type": "code",
   "execution_count": 57,
   "id": "16cd196c-5df6-4f5b-9d69-2ea1314482e4",
   "metadata": {
    "tags": []
   },
   "outputs": [],
   "source": [
    "X = houses.drop(columns='Expensive')\n",
    "y = houses['Expensive']\n",
    "X_train, X_test, y_train, y_test = train_test_split(X, y, test_size=0.2, random_state=31416)"
   ]
  },
  {
   "cell_type": "markdown",
   "id": "df05845b-d854-4df7-b9e5-99e48c8c7a01",
   "metadata": {},
   "source": [
    "# Pipelines"
   ]
  },
  {
   "cell_type": "markdown",
   "id": "2ac4ce7d-e964-4722-82f1-620b0d2eca69",
   "metadata": {},
   "source": [
    "This pipeline first handles missing values and then creared a decision tree output."
   ]
  },
  {
   "cell_type": "code",
   "execution_count": 58,
   "id": "04f91fbf-2685-4e0a-baa3-ea50e2797a2e",
   "metadata": {
    "tags": []
   },
   "outputs": [],
   "source": [
    "# 1. initialize transformers & model\n",
    "imputer = SimpleImputer()\n",
    "scaler = StandardScaler()\n",
    "dtree = DecisionTreeClassifier(random_state = 42)\n",
    "\n",
    "# 2. Create a pipeline*\n",
    "pipe = make_pipeline(imputer, scaler, dtree)"
   ]
  },
  {
   "cell_type": "markdown",
   "id": "8cc143d0-f8e4-4e29-8dcc-767cc3e736f0",
   "metadata": {},
   "source": [
    "# Cross Validation"
   ]
  },
  {
   "cell_type": "markdown",
   "id": "fcdee008-79f6-406d-bde7-74b8a3d6c042",
   "metadata": {},
   "source": [
    "Divide training set into equally sized chunks and run different parameter son those so called FOLDS to configer the optimum."
   ]
  },
  {
   "cell_type": "markdown",
   "id": "b585871e-e8b2-4783-b807-7edad2644511",
   "metadata": {},
   "source": [
    "## Grid Search"
   ]
  },
  {
   "cell_type": "code",
   "execution_count": 59,
   "id": "85ab4a58-13bd-4ee3-9a61-9171b371c8ec",
   "metadata": {
    "tags": []
   },
   "outputs": [],
   "source": [
    "param_grid = {\n",
    "    \"simpleimputer__strategy\":[\"mean\", \"median\"],\n",
    "    \"standardscaler__with_mean\":[True, False],\n",
    "    \"standardscaler__with_std\":[True, False],\n",
    "    \"decisiontreeclassifier__max_depth\": range(2, 14),\n",
    "    \"decisiontreeclassifier__min_samples_leaf\": range(3, 10),\n",
    "    \"decisiontreeclassifier__criterion\":[\"gini\", \"entropy\"]\n",
    "}"
   ]
  },
  {
   "cell_type": "code",
   "execution_count": 60,
   "id": "7601937b-a702-443f-aea5-2fb0585c82c6",
   "metadata": {
    "tags": []
   },
   "outputs": [],
   "source": [
    "# define cross validation\n",
    "search = GridSearchCV(pipe,\n",
    "                      param_grid,\n",
    "                      cv=10,\n",
    "                      verbose=1)"
   ]
  },
  {
   "cell_type": "code",
   "execution_count": null,
   "id": "56c4e7c9-c908-4c7c-9cac-0653c393a57f",
   "metadata": {
    "tags": []
   },
   "outputs": [
    {
     "name": "stdout",
     "output_type": "stream",
     "text": [
      "Fitting 10 folds for each of 1344 candidates, totalling 13440 fits\n"
     ]
    }
   ],
   "source": [
    "search.fit(X_train, y_train)"
   ]
  },
  {
   "cell_type": "code",
   "execution_count": null,
   "id": "44fd7dd4-733e-4fa5-9e45-3daf6644afb1",
   "metadata": {
    "tags": []
   },
   "outputs": [],
   "source": [
    "search.best_params_"
   ]
  },
  {
   "cell_type": "code",
   "execution_count": null,
   "id": "da62789a-9111-4bc5-9335-5138bf78f97a",
   "metadata": {
    "tags": []
   },
   "outputs": [],
   "source": [
    "search.best_score_"
   ]
  },
  {
   "cell_type": "code",
   "execution_count": null,
   "id": "5e6d089e-b276-4b58-bc2c-bfffc455e5a3",
   "metadata": {
    "tags": []
   },
   "outputs": [],
   "source": [
    "y_train_pred = search.predict(X_train)\n",
    "\n",
    "accuracy_score(y_train, y_train_pred)"
   ]
  },
  {
   "cell_type": "code",
   "execution_count": null,
   "id": "29bd21d2-e78f-409e-9c0f-98835d0e719c",
   "metadata": {
    "tags": []
   },
   "outputs": [],
   "source": [
    "y_test_pred = search.predict(X_test)\n",
    "\n",
    "accuracy_score(y_test, y_test_pred)"
   ]
  },
  {
   "cell_type": "code",
   "execution_count": null,
   "id": "dc93ba8c-0b14-4c75-a611-f8eee1f5ccf0",
   "metadata": {
    "tags": []
   },
   "outputs": [],
   "source": [
    "print('This worked!')"
   ]
  },
  {
   "cell_type": "code",
   "execution_count": null,
   "id": "5ed60088-805e-4757-92d5-578cb2c0cf26",
   "metadata": {},
   "outputs": [],
   "source": []
  }
 ],
 "metadata": {
  "kernelspec": {
   "display_name": "Python 3 (ipykernel)",
   "language": "python",
   "name": "python3"
  },
  "language_info": {
   "codemirror_mode": {
    "name": "ipython",
    "version": 3
   },
   "file_extension": ".py",
   "mimetype": "text/x-python",
   "name": "python",
   "nbconvert_exporter": "python",
   "pygments_lexer": "ipython3",
   "version": "3.11.4"
  },
  "toc-autonumbering": true
 },
 "nbformat": 4,
 "nbformat_minor": 5
}
