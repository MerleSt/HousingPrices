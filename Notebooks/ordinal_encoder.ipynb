{
 "cells": [
  {
   "cell_type": "markdown",
   "id": "0ccae381-a2af-49b3-a0a8-ab8a3dba10c8",
   "metadata": {},
   "source": [
    "# Import and organize Data"
   ]
  },
  {
   "cell_type": "code",
   "execution_count": 44,
   "id": "356ecc41-f6fe-43ac-bffb-9ea7256aa66b",
   "metadata": {
    "tags": []
   },
   "outputs": [],
   "source": [
    "import pandas as pd\n",
    "from sklearn.pipeline import Pipeline\n",
    "from sklearn.pipeline import make_pipeline\n",
    "from sklearn.model_selection import GridSearchCV\n",
    "from sklearn.preprocessing import StandardScaler\n",
    "from sklearn.preprocessing import MinMaxScaler\n",
    "from sklearn.tree import plot_tree\n",
    "import numpy as np\n",
    "from sklearn.impute import SimpleImputer\n",
    "from sklearn.metrics import accuracy_score\n",
    "import seaborn as sns\n",
    "import matplotlib.pyplot as plt\n",
    "from sklearn.model_selection import train_test_split\n",
    "from sklearn.tree import DecisionTreeClassifier\n",
    "from sklearn.preprocessing import OneHotEncoder\n",
    "from sklearn.compose import ColumnTransformer\n",
    "from sklearn.model_selection import RandomizedSearchCV\n",
    "from sklearn.preprocessing import OrdinalEncoder\n",
    "import category_encoders as ce"
   ]
  },
  {
   "cell_type": "code",
   "execution_count": 45,
   "id": "01211eb0-4638-4934-8007-b0c7b5675062",
   "metadata": {
    "tags": []
   },
   "outputs": [],
   "source": [
    "pd.set_option('display.max_columns', None)"
   ]
  },
  {
   "cell_type": "code",
   "execution_count": 46,
   "id": "81f64ff2-442e-4743-884d-13d6e007ac85",
   "metadata": {
    "tags": []
   },
   "outputs": [],
   "source": [
    "houses = pd.read_csv('/Users/merlesteffen/Documents/GitHub/HousingPrices/Data/iter-4/housing-classification-iter4.csv')"
   ]
  },
  {
   "cell_type": "code",
   "execution_count": 47,
   "id": "dcd975d6-a66f-494b-88a5-089acc9b4b6a",
   "metadata": {
    "tags": []
   },
   "outputs": [],
   "source": [
    "houses_all = houses.copy()"
   ]
  },
  {
   "cell_type": "markdown",
   "id": "b9d06500-cdbe-4229-90cc-0d887e54f96b",
   "metadata": {},
   "source": [
    "As you can see below, there are many categorical columns, which only have very few observations. Let us combine some of them to make the model more robust to overfitting. In best case at least 50 obervations. Maybe sometimes we can even drop one, where there are very few observations."
   ]
  },
  {
   "cell_type": "code",
   "execution_count": 6,
   "id": "2b6ef5e1-9ca8-4fba-887a-7dd9ffdb1830",
   "metadata": {
    "tags": []
   },
   "outputs": [],
   "source": [
    "#cat_columns = houses.select_dtypes(include=[\"object\"])\n",
    "# for column in cat_columns:\n",
    "#     print(f'The Name of the column is: {column}')\n",
    "#     print(houses[column].value_counts())"
   ]
  },
  {
   "cell_type": "code",
   "execution_count": 48,
   "id": "32d3bcf5-f7d8-4398-bcef-24b3663f62c6",
   "metadata": {
    "tags": []
   },
   "outputs": [],
   "source": [
    "# Define which categories for each column should be replaced by 'Other'\n",
    "categories_to_combine = {\n",
    "    'MSZoning': ['FV', 'RH', 'C (all)'],\n",
    "    'Condition1': ['RRAn', 'PosN', 'RRAe', 'PosA', 'RRNn', 'RRNe'],\n",
    "    'Heating': ['GasW', 'Grav', 'Wall', 'OthW', 'Floor'],\n",
    "    'Street': [],\n",
    "    'CentralAir': [],  # All categories have counts over 50\n",
    "    'Foundation': ['Slab', 'Stone', 'Wood'],\n",
    "    'ExterQual': ['Ex', 'Fa'],\n",
    "    'ExterCond': ['Fa', 'Ex', 'Po'],\n",
    "    'BsmtQual': ['Fa', 'Ex'], \n",
    "    'BsmtCond': ['Fa', 'Po'],\n",
    "    'BsmtExposure': [],  # All categories have counts over 50\n",
    "    'BsmtFinType1': [], \n",
    "    'KitchenQual': ['Fa', 'Ex'],\n",
    "    'FireplaceQu': ['Fa', 'Ex', 'Po']\n",
    "}\n",
    "\n",
    "# Use the dictionary to generate the code to combine categories\n",
    "for column, categories in categories_to_combine.items():\n",
    "    if categories:\n",
    "        houses[column] = houses[column].replace(categories, 'Other')\n",
    "        \n",
    "# Let us drop GRavel for Street since it only has 6 observations\n",
    "houses = houses[houses['Street'] != 'Grvl']"
   ]
  },
  {
   "cell_type": "code",
   "execution_count": 49,
   "id": "d39d8693-6854-45df-aa4d-f5c91c0f2e08",
   "metadata": {
    "tags": []
   },
   "outputs": [],
   "source": [
    "houses_other = houses.copy()"
   ]
  },
  {
   "cell_type": "markdown",
   "id": "47ef6351-d6e3-462d-949d-d2e1cb34f8b3",
   "metadata": {},
   "source": [
    "# Split Data"
   ]
  },
  {
   "cell_type": "markdown",
   "id": "a4186dbe-1d32-4019-bc62-0da618359a02",
   "metadata": {},
   "source": [
    "Only ever use on of the two below. Comment out the other."
   ]
  },
  {
   "cell_type": "code",
   "execution_count": 50,
   "id": "e65dd791-5086-4581-bfdd-6ad426d5a2aa",
   "metadata": {
    "tags": []
   },
   "outputs": [],
   "source": [
    "X = houses_other.drop(columns='Expensive')\n",
    "y = houses_other['Expensive']\n",
    "X_train, X_test, y_train, y_test = train_test_split(X, y, test_size=0.2, random_state=42)"
   ]
  },
  {
   "cell_type": "code",
   "execution_count": 20,
   "id": "5baec59b-69ed-4a1c-8040-7b9969b9ce88",
   "metadata": {
    "tags": []
   },
   "outputs": [],
   "source": [
    "# X = houses_all.drop(columns='Expensive')\n",
    "# y = houses_all['Expensive']\n",
    "# X_train, X_test, y_train, y_test = train_test_split(X, y, test_size=0.2, random_state=42)"
   ]
  },
  {
   "cell_type": "markdown",
   "id": "62037d4d-2323-41be-9d55-da3ce351e947",
   "metadata": {},
   "source": [
    "# Encoding"
   ]
  },
  {
   "cell_type": "markdown",
   "id": "2a7a0529-2bd9-432d-aa42-f9454114dc95",
   "metadata": {
    "jp-MarkdownHeadingCollapsed": true,
    "tags": []
   },
   "source": [
    "## Find Categories, which can be sorted meaningfully"
   ]
  },
  {
   "cell_type": "code",
   "execution_count": 11,
   "id": "56587df8-6ee6-48b9-be62-258eaaceea33",
   "metadata": {
    "tags": []
   },
   "outputs": [],
   "source": [
    "# order_ExterQual = ['Other', 'Po', 'Fa', 'TA', 'Gd', 'Ex']\n",
    "# order_ExterCond = ['Other', 'Po', 'Fa', 'TA', 'Gd', 'Ex']\n",
    "# order_BsmtQual = ['NA', 'Other', 'Po', 'Fa', 'TA', 'Gd', 'Ex']\n",
    "# order_BsmtCond = ['NA', 'Other', 'Po', 'Fa', 'TA', 'Gd', 'Ex']\n",
    "# order_BsmtExposure = ['NA', 'No', 'Mn', 'Av', 'Gd']\n",
    "# order_BsmtFinType1 = ['NA', 'Unf', 'LwQ', 'Rec', 'BLQ', 'ALQ', 'GLQ']\n",
    "# order_KitchenQual = ['Other', 'Po', 'Fa', 'TA', 'Gd', 'Ex']\n",
    "# order_FireplaceQu = ['NA', 'Other', 'Po', 'Fa', 'TA', 'Gd', 'Ex']\n",
    "\n",
    "# ordinal_enc = OrdinalEncoder(\n",
    "#     categories=[\n",
    "#         order_ExterQual, order_ExterCond, order_BsmtQual, order_BsmtCond,\n",
    "#         order_BsmtExposure, order_BsmtFinType1, order_KitchenQual, order_FireplaceQu\n",
    "#     ],\n",
    "#     handle_unknown='use_encoded_value',\n",
    "#     unknown_value=-1\n",
    "# )\n"
   ]
  },
  {
   "cell_type": "code",
   "execution_count": 12,
   "id": "d94c1ddb-a462-4569-9dc1-97eb93b98e2b",
   "metadata": {
    "tags": []
   },
   "outputs": [],
   "source": [
    "# Define the custom orders\n",
    "order_ExterQual = ['Po', 'Fa', 'TA', 'Gd', 'Ex']\n",
    "order_ExterCond = ['Po', 'Fa', 'TA', 'Gd', 'Ex']\n",
    "order_BsmtQual = ['NA', 'Po', 'Fa', 'TA', 'Gd', 'Ex']\n",
    "order_BsmtCond = ['NA', 'Po', 'Fa', 'TA', 'Gd', 'Ex']\n",
    "order_BsmtExposure = ['NA', 'No', 'Mn', 'Av', 'Gd']\n",
    "order_BsmtFinType1 = ['NA', 'Unf', 'LwQ', 'Rec', 'BLQ', 'ALQ', 'GLQ']\n",
    "order_KitchenQual = ['Po', 'Fa', 'TA', 'Gd', 'Ex']\n",
    "order_FireplaceQu = ['NA', 'Po', 'Fa', 'TA', 'Gd', 'Ex']\n",
    "\n",
    "# Setup the encoder\n",
    "ordinal_enc = OrdinalEncoder(\n",
    "    categories=[\n",
    "        order_ExterQual, order_ExterCond, order_BsmtQual, order_BsmtCond,\n",
    "        order_BsmtExposure, order_BsmtFinType1, order_KitchenQual, order_FireplaceQu\n",
    "    ],\n",
    "    handle_unknown='use_encoded_value',\n",
    "    unknown_value=-1\n",
    ")"
   ]
  },
  {
   "cell_type": "code",
   "execution_count": 13,
   "id": "29965329-6890-41c9-9440-8e5d68cfadc2",
   "metadata": {
    "tags": []
   },
   "outputs": [],
   "source": [
    "categoric_features_ordinal = [\n",
    "    'ExterQual', 'ExterCond', 'BsmtQual', 'BsmtCond', \n",
    "    'BsmtExposure', 'BsmtFinType1', 'KitchenQual', 'FireplaceQu'\n",
    "]\n",
    "\n",
    "categoric_pipe_ordinal = make_pipeline(\n",
    "    SimpleImputer(strategy='constant', fill_value='NA'),  # Use 'NA' for the missing basement/fireplace related values\n",
    "    ordinal_enc\n",
    ")"
   ]
  },
  {
   "cell_type": "code",
   "execution_count": 14,
   "id": "1aca70fe-6fab-48a0-acc8-72ed7bf77c44",
   "metadata": {
    "tags": []
   },
   "outputs": [],
   "source": [
    "all_categorical_cols = list(X_train.select_dtypes(include=[\"object\"]))\n",
    "categoric_features_onehot = list(set(all_categorical_cols) - set(categoric_features_ordinal))\n",
    "numeric_features = list(X_train.select_dtypes(exclude=[\"object\"]))"
   ]
  },
  {
   "cell_type": "code",
   "execution_count": 15,
   "id": "f418fc82-5575-4728-a452-47494524757f",
   "metadata": {
    "tags": []
   },
   "outputs": [],
   "source": [
    "numeric_pipe = make_pipeline(\n",
    "    SimpleImputer(strategy='mean'),\n",
    "    MinMaxScaler()\n",
    ")\n",
    "\n",
    "categoric_pipe_onehot = make_pipeline(\n",
    "    SimpleImputer(strategy='constant', fill_value='missing'),\n",
    "    OneHotEncoder(handle_unknown='ignore')\n",
    ")\n",
    "\n",
    "categoric_pipe_ordinal = make_pipeline(\n",
    "    SimpleImputer(strategy='constant', fill_value='NA'),\n",
    "    ordinal_enc \n",
    ")"
   ]
  },
  {
   "cell_type": "code",
   "execution_count": 16,
   "id": "33320692-c4f1-496f-8e99-d3e6adef0586",
   "metadata": {
    "tags": []
   },
   "outputs": [],
   "source": [
    "preprocessor = ColumnTransformer(\n",
    "    transformers=[\n",
    "        (\"num_pipe\", numeric_pipe, numeric_features),\n",
    "        (\"cat_pipe_onehot\", categoric_pipe_onehot, categoric_features_onehot),\n",
    "        (\"cat_pipe_ordinal\", categoric_pipe_ordinal, categoric_features_ordinal),\n",
    "    ]\n",
    ")"
   ]
  },
  {
   "cell_type": "code",
   "execution_count": 17,
   "id": "63937b64-ce44-4749-9998-8653ebe1f78f",
   "metadata": {
    "tags": []
   },
   "outputs": [],
   "source": [
    "dtree = DecisionTreeClassifier(random_state=42)"
   ]
  },
  {
   "cell_type": "code",
   "execution_count": 18,
   "id": "1d37bc34-1de4-4508-bfac-41931701aa84",
   "metadata": {
    "tags": []
   },
   "outputs": [],
   "source": [
    "model_pipeline = make_pipeline(preprocessor, dtree)"
   ]
  },
  {
   "cell_type": "code",
   "execution_count": 19,
   "id": "f06cc4e8-e03c-4413-87a9-5867b1bbc56c",
   "metadata": {
    "tags": []
   },
   "outputs": [
    {
     "data": {
      "text/html": [
       "<style>#sk-container-id-1 {color: black;}#sk-container-id-1 pre{padding: 0;}#sk-container-id-1 div.sk-toggleable {background-color: white;}#sk-container-id-1 label.sk-toggleable__label {cursor: pointer;display: block;width: 100%;margin-bottom: 0;padding: 0.3em;box-sizing: border-box;text-align: center;}#sk-container-id-1 label.sk-toggleable__label-arrow:before {content: \"▸\";float: left;margin-right: 0.25em;color: #696969;}#sk-container-id-1 label.sk-toggleable__label-arrow:hover:before {color: black;}#sk-container-id-1 div.sk-estimator:hover label.sk-toggleable__label-arrow:before {color: black;}#sk-container-id-1 div.sk-toggleable__content {max-height: 0;max-width: 0;overflow: hidden;text-align: left;background-color: #f0f8ff;}#sk-container-id-1 div.sk-toggleable__content pre {margin: 0.2em;color: black;border-radius: 0.25em;background-color: #f0f8ff;}#sk-container-id-1 input.sk-toggleable__control:checked~div.sk-toggleable__content {max-height: 200px;max-width: 100%;overflow: auto;}#sk-container-id-1 input.sk-toggleable__control:checked~label.sk-toggleable__label-arrow:before {content: \"▾\";}#sk-container-id-1 div.sk-estimator input.sk-toggleable__control:checked~label.sk-toggleable__label {background-color: #d4ebff;}#sk-container-id-1 div.sk-label input.sk-toggleable__control:checked~label.sk-toggleable__label {background-color: #d4ebff;}#sk-container-id-1 input.sk-hidden--visually {border: 0;clip: rect(1px 1px 1px 1px);clip: rect(1px, 1px, 1px, 1px);height: 1px;margin: -1px;overflow: hidden;padding: 0;position: absolute;width: 1px;}#sk-container-id-1 div.sk-estimator {font-family: monospace;background-color: #f0f8ff;border: 1px dotted black;border-radius: 0.25em;box-sizing: border-box;margin-bottom: 0.5em;}#sk-container-id-1 div.sk-estimator:hover {background-color: #d4ebff;}#sk-container-id-1 div.sk-parallel-item::after {content: \"\";width: 100%;border-bottom: 1px solid gray;flex-grow: 1;}#sk-container-id-1 div.sk-label:hover label.sk-toggleable__label {background-color: #d4ebff;}#sk-container-id-1 div.sk-serial::before {content: \"\";position: absolute;border-left: 1px solid gray;box-sizing: border-box;top: 0;bottom: 0;left: 50%;z-index: 0;}#sk-container-id-1 div.sk-serial {display: flex;flex-direction: column;align-items: center;background-color: white;padding-right: 0.2em;padding-left: 0.2em;position: relative;}#sk-container-id-1 div.sk-item {position: relative;z-index: 1;}#sk-container-id-1 div.sk-parallel {display: flex;align-items: stretch;justify-content: center;background-color: white;position: relative;}#sk-container-id-1 div.sk-item::before, #sk-container-id-1 div.sk-parallel-item::before {content: \"\";position: absolute;border-left: 1px solid gray;box-sizing: border-box;top: 0;bottom: 0;left: 50%;z-index: -1;}#sk-container-id-1 div.sk-parallel-item {display: flex;flex-direction: column;z-index: 1;position: relative;background-color: white;}#sk-container-id-1 div.sk-parallel-item:first-child::after {align-self: flex-end;width: 50%;}#sk-container-id-1 div.sk-parallel-item:last-child::after {align-self: flex-start;width: 50%;}#sk-container-id-1 div.sk-parallel-item:only-child::after {width: 0;}#sk-container-id-1 div.sk-dashed-wrapped {border: 1px dashed gray;margin: 0 0.4em 0.5em 0.4em;box-sizing: border-box;padding-bottom: 0.4em;background-color: white;}#sk-container-id-1 div.sk-label label {font-family: monospace;font-weight: bold;display: inline-block;line-height: 1.2em;}#sk-container-id-1 div.sk-label-container {text-align: center;}#sk-container-id-1 div.sk-container {/* jupyter's `normalize.less` sets `[hidden] { display: none; }` but bootstrap.min.css set `[hidden] { display: none !important; }` so we also need the `!important` here to be able to override the default hidden behavior on the sphinx rendered scikit-learn.org. See: https://github.com/scikit-learn/scikit-learn/issues/21755 */display: inline-block !important;position: relative;}#sk-container-id-1 div.sk-text-repr-fallback {display: none;}</style><div id=\"sk-container-id-1\" class=\"sk-top-container\"><div class=\"sk-text-repr-fallback\"><pre>Pipeline(steps=[(&#x27;columntransformer&#x27;,\n",
       "                 ColumnTransformer(transformers=[(&#x27;num_pipe&#x27;,\n",
       "                                                  Pipeline(steps=[(&#x27;simpleimputer&#x27;,\n",
       "                                                                   SimpleImputer()),\n",
       "                                                                  (&#x27;minmaxscaler&#x27;,\n",
       "                                                                   MinMaxScaler())]),\n",
       "                                                  [&#x27;LotArea&#x27;, &#x27;LotFrontage&#x27;,\n",
       "                                                   &#x27;TotalBsmtSF&#x27;,\n",
       "                                                   &#x27;BedroomAbvGr&#x27;, &#x27;Fireplaces&#x27;,\n",
       "                                                   &#x27;PoolArea&#x27;, &#x27;GarageCars&#x27;,\n",
       "                                                   &#x27;WoodDeckSF&#x27;,\n",
       "                                                   &#x27;ScreenPorch&#x27;]),\n",
       "                                                 (&#x27;cat_pipe_onehot&#x27;,\n",
       "                                                  Pipeline(steps=[(&#x27;simpleimputer&#x27;,\n",
       "                                                                   SimpleImputer...\n",
       "                                                                                               &#x27;Mn&#x27;,\n",
       "                                                                                               &#x27;Av&#x27;,\n",
       "                                                                                               &#x27;Gd&#x27;],\n",
       "                                                                                              [&#x27;NA&#x27;,\n",
       "                                                                                               &#x27;Unf&#x27;,\n",
       "                                                                                               &#x27;LwQ&#x27;,\n",
       "                                                                                               &#x27;Rec&#x27;,\n",
       "                                                                                               &#x27;BLQ&#x27;,\n",
       "                                                                                               &#x27;ALQ&#x27;,\n",
       "                                                                                               &#x27;GLQ&#x27;],\n",
       "                                                                                              [&#x27;Po&#x27;,\n",
       "                                                                                               &#x27;Fa&#x27;,\n",
       "                                                                                               &#x27;TA&#x27;,\n",
       "                                                                                               &#x27;Gd&#x27;,\n",
       "                                                                                               &#x27;Ex&#x27;],\n",
       "                                                                                              [&#x27;NA&#x27;,\n",
       "                                                                                               &#x27;Po&#x27;,\n",
       "                                                                                               &#x27;Fa&#x27;,\n",
       "                                                                                               &#x27;TA&#x27;,\n",
       "                                                                                               &#x27;Gd&#x27;,\n",
       "                                                                                               &#x27;Ex&#x27;]],\n",
       "                                                                                  handle_unknown=&#x27;use_encoded_value&#x27;,\n",
       "                                                                                  unknown_value=-1))]),\n",
       "                                                  [&#x27;ExterQual&#x27;, &#x27;ExterCond&#x27;,\n",
       "                                                   &#x27;BsmtQual&#x27;, &#x27;BsmtCond&#x27;,\n",
       "                                                   &#x27;BsmtExposure&#x27;,\n",
       "                                                   &#x27;BsmtFinType1&#x27;,\n",
       "                                                   &#x27;KitchenQual&#x27;,\n",
       "                                                   &#x27;FireplaceQu&#x27;])])),\n",
       "                (&#x27;decisiontreeclassifier&#x27;,\n",
       "                 DecisionTreeClassifier(random_state=42))])</pre><b>In a Jupyter environment, please rerun this cell to show the HTML representation or trust the notebook. <br />On GitHub, the HTML representation is unable to render, please try loading this page with nbviewer.org.</b></div><div class=\"sk-container\" hidden><div class=\"sk-item sk-dashed-wrapped\"><div class=\"sk-label-container\"><div class=\"sk-label sk-toggleable\"><input class=\"sk-toggleable__control sk-hidden--visually\" id=\"sk-estimator-id-1\" type=\"checkbox\" ><label for=\"sk-estimator-id-1\" class=\"sk-toggleable__label sk-toggleable__label-arrow\">Pipeline</label><div class=\"sk-toggleable__content\"><pre>Pipeline(steps=[(&#x27;columntransformer&#x27;,\n",
       "                 ColumnTransformer(transformers=[(&#x27;num_pipe&#x27;,\n",
       "                                                  Pipeline(steps=[(&#x27;simpleimputer&#x27;,\n",
       "                                                                   SimpleImputer()),\n",
       "                                                                  (&#x27;minmaxscaler&#x27;,\n",
       "                                                                   MinMaxScaler())]),\n",
       "                                                  [&#x27;LotArea&#x27;, &#x27;LotFrontage&#x27;,\n",
       "                                                   &#x27;TotalBsmtSF&#x27;,\n",
       "                                                   &#x27;BedroomAbvGr&#x27;, &#x27;Fireplaces&#x27;,\n",
       "                                                   &#x27;PoolArea&#x27;, &#x27;GarageCars&#x27;,\n",
       "                                                   &#x27;WoodDeckSF&#x27;,\n",
       "                                                   &#x27;ScreenPorch&#x27;]),\n",
       "                                                 (&#x27;cat_pipe_onehot&#x27;,\n",
       "                                                  Pipeline(steps=[(&#x27;simpleimputer&#x27;,\n",
       "                                                                   SimpleImputer...\n",
       "                                                                                               &#x27;Mn&#x27;,\n",
       "                                                                                               &#x27;Av&#x27;,\n",
       "                                                                                               &#x27;Gd&#x27;],\n",
       "                                                                                              [&#x27;NA&#x27;,\n",
       "                                                                                               &#x27;Unf&#x27;,\n",
       "                                                                                               &#x27;LwQ&#x27;,\n",
       "                                                                                               &#x27;Rec&#x27;,\n",
       "                                                                                               &#x27;BLQ&#x27;,\n",
       "                                                                                               &#x27;ALQ&#x27;,\n",
       "                                                                                               &#x27;GLQ&#x27;],\n",
       "                                                                                              [&#x27;Po&#x27;,\n",
       "                                                                                               &#x27;Fa&#x27;,\n",
       "                                                                                               &#x27;TA&#x27;,\n",
       "                                                                                               &#x27;Gd&#x27;,\n",
       "                                                                                               &#x27;Ex&#x27;],\n",
       "                                                                                              [&#x27;NA&#x27;,\n",
       "                                                                                               &#x27;Po&#x27;,\n",
       "                                                                                               &#x27;Fa&#x27;,\n",
       "                                                                                               &#x27;TA&#x27;,\n",
       "                                                                                               &#x27;Gd&#x27;,\n",
       "                                                                                               &#x27;Ex&#x27;]],\n",
       "                                                                                  handle_unknown=&#x27;use_encoded_value&#x27;,\n",
       "                                                                                  unknown_value=-1))]),\n",
       "                                                  [&#x27;ExterQual&#x27;, &#x27;ExterCond&#x27;,\n",
       "                                                   &#x27;BsmtQual&#x27;, &#x27;BsmtCond&#x27;,\n",
       "                                                   &#x27;BsmtExposure&#x27;,\n",
       "                                                   &#x27;BsmtFinType1&#x27;,\n",
       "                                                   &#x27;KitchenQual&#x27;,\n",
       "                                                   &#x27;FireplaceQu&#x27;])])),\n",
       "                (&#x27;decisiontreeclassifier&#x27;,\n",
       "                 DecisionTreeClassifier(random_state=42))])</pre></div></div></div><div class=\"sk-serial\"><div class=\"sk-item sk-dashed-wrapped\"><div class=\"sk-label-container\"><div class=\"sk-label sk-toggleable\"><input class=\"sk-toggleable__control sk-hidden--visually\" id=\"sk-estimator-id-2\" type=\"checkbox\" ><label for=\"sk-estimator-id-2\" class=\"sk-toggleable__label sk-toggleable__label-arrow\">columntransformer: ColumnTransformer</label><div class=\"sk-toggleable__content\"><pre>ColumnTransformer(transformers=[(&#x27;num_pipe&#x27;,\n",
       "                                 Pipeline(steps=[(&#x27;simpleimputer&#x27;,\n",
       "                                                  SimpleImputer()),\n",
       "                                                 (&#x27;minmaxscaler&#x27;,\n",
       "                                                  MinMaxScaler())]),\n",
       "                                 [&#x27;LotArea&#x27;, &#x27;LotFrontage&#x27;, &#x27;TotalBsmtSF&#x27;,\n",
       "                                  &#x27;BedroomAbvGr&#x27;, &#x27;Fireplaces&#x27;, &#x27;PoolArea&#x27;,\n",
       "                                  &#x27;GarageCars&#x27;, &#x27;WoodDeckSF&#x27;, &#x27;ScreenPorch&#x27;]),\n",
       "                                (&#x27;cat_pipe_onehot&#x27;,\n",
       "                                 Pipeline(steps=[(&#x27;simpleimputer&#x27;,\n",
       "                                                  SimpleImputer(fill_value=&#x27;missing&#x27;,\n",
       "                                                                strategy=&#x27;const...\n",
       "                                                                              &#x27;Po&#x27;,\n",
       "                                                                              &#x27;Fa&#x27;,\n",
       "                                                                              &#x27;TA&#x27;,\n",
       "                                                                              &#x27;Gd&#x27;,\n",
       "                                                                              &#x27;Ex&#x27;],\n",
       "                                                                             [&#x27;NA&#x27;,\n",
       "                                                                              &#x27;Po&#x27;,\n",
       "                                                                              &#x27;Fa&#x27;,\n",
       "                                                                              &#x27;TA&#x27;,\n",
       "                                                                              &#x27;Gd&#x27;,\n",
       "                                                                              &#x27;Ex&#x27;],\n",
       "                                                                             [&#x27;NA&#x27;,\n",
       "                                                                              &#x27;No&#x27;,\n",
       "                                                                              &#x27;Mn&#x27;,\n",
       "                                                                              &#x27;Av&#x27;,\n",
       "                                                                              &#x27;Gd&#x27;],\n",
       "                                                                             [&#x27;NA&#x27;,\n",
       "                                                                              &#x27;Unf&#x27;,\n",
       "                                                                              &#x27;LwQ&#x27;,\n",
       "                                                                              &#x27;Rec&#x27;,\n",
       "                                                                              &#x27;BLQ&#x27;,\n",
       "                                                                              &#x27;ALQ&#x27;,\n",
       "                                                                              &#x27;GLQ&#x27;],\n",
       "                                                                             [&#x27;Po&#x27;,\n",
       "                                                                              &#x27;Fa&#x27;,\n",
       "                                                                              &#x27;TA&#x27;,\n",
       "                                                                              &#x27;Gd&#x27;,\n",
       "                                                                              &#x27;Ex&#x27;],\n",
       "                                                                             [&#x27;NA&#x27;,\n",
       "                                                                              &#x27;Po&#x27;,\n",
       "                                                                              &#x27;Fa&#x27;,\n",
       "                                                                              &#x27;TA&#x27;,\n",
       "                                                                              &#x27;Gd&#x27;,\n",
       "                                                                              &#x27;Ex&#x27;]],\n",
       "                                                                 handle_unknown=&#x27;use_encoded_value&#x27;,\n",
       "                                                                 unknown_value=-1))]),\n",
       "                                 [&#x27;ExterQual&#x27;, &#x27;ExterCond&#x27;, &#x27;BsmtQual&#x27;,\n",
       "                                  &#x27;BsmtCond&#x27;, &#x27;BsmtExposure&#x27;, &#x27;BsmtFinType1&#x27;,\n",
       "                                  &#x27;KitchenQual&#x27;, &#x27;FireplaceQu&#x27;])])</pre></div></div></div><div class=\"sk-parallel\"><div class=\"sk-parallel-item\"><div class=\"sk-item\"><div class=\"sk-label-container\"><div class=\"sk-label sk-toggleable\"><input class=\"sk-toggleable__control sk-hidden--visually\" id=\"sk-estimator-id-3\" type=\"checkbox\" ><label for=\"sk-estimator-id-3\" class=\"sk-toggleable__label sk-toggleable__label-arrow\">num_pipe</label><div class=\"sk-toggleable__content\"><pre>[&#x27;LotArea&#x27;, &#x27;LotFrontage&#x27;, &#x27;TotalBsmtSF&#x27;, &#x27;BedroomAbvGr&#x27;, &#x27;Fireplaces&#x27;, &#x27;PoolArea&#x27;, &#x27;GarageCars&#x27;, &#x27;WoodDeckSF&#x27;, &#x27;ScreenPorch&#x27;]</pre></div></div></div><div class=\"sk-serial\"><div class=\"sk-item\"><div class=\"sk-serial\"><div class=\"sk-item\"><div class=\"sk-estimator sk-toggleable\"><input class=\"sk-toggleable__control sk-hidden--visually\" id=\"sk-estimator-id-4\" type=\"checkbox\" ><label for=\"sk-estimator-id-4\" class=\"sk-toggleable__label sk-toggleable__label-arrow\">SimpleImputer</label><div class=\"sk-toggleable__content\"><pre>SimpleImputer()</pre></div></div></div><div class=\"sk-item\"><div class=\"sk-estimator sk-toggleable\"><input class=\"sk-toggleable__control sk-hidden--visually\" id=\"sk-estimator-id-5\" type=\"checkbox\" ><label for=\"sk-estimator-id-5\" class=\"sk-toggleable__label sk-toggleable__label-arrow\">MinMaxScaler</label><div class=\"sk-toggleable__content\"><pre>MinMaxScaler()</pre></div></div></div></div></div></div></div></div><div class=\"sk-parallel-item\"><div class=\"sk-item\"><div class=\"sk-label-container\"><div class=\"sk-label sk-toggleable\"><input class=\"sk-toggleable__control sk-hidden--visually\" id=\"sk-estimator-id-6\" type=\"checkbox\" ><label for=\"sk-estimator-id-6\" class=\"sk-toggleable__label sk-toggleable__label-arrow\">cat_pipe_onehot</label><div class=\"sk-toggleable__content\"><pre>[&#x27;Heating&#x27;, &#x27;Foundation&#x27;, &#x27;CentralAir&#x27;, &#x27;MSZoning&#x27;, &#x27;Street&#x27;, &#x27;Condition1&#x27;]</pre></div></div></div><div class=\"sk-serial\"><div class=\"sk-item\"><div class=\"sk-serial\"><div class=\"sk-item\"><div class=\"sk-estimator sk-toggleable\"><input class=\"sk-toggleable__control sk-hidden--visually\" id=\"sk-estimator-id-7\" type=\"checkbox\" ><label for=\"sk-estimator-id-7\" class=\"sk-toggleable__label sk-toggleable__label-arrow\">SimpleImputer</label><div class=\"sk-toggleable__content\"><pre>SimpleImputer(fill_value=&#x27;missing&#x27;, strategy=&#x27;constant&#x27;)</pre></div></div></div><div class=\"sk-item\"><div class=\"sk-estimator sk-toggleable\"><input class=\"sk-toggleable__control sk-hidden--visually\" id=\"sk-estimator-id-8\" type=\"checkbox\" ><label for=\"sk-estimator-id-8\" class=\"sk-toggleable__label sk-toggleable__label-arrow\">OneHotEncoder</label><div class=\"sk-toggleable__content\"><pre>OneHotEncoder(handle_unknown=&#x27;ignore&#x27;)</pre></div></div></div></div></div></div></div></div><div class=\"sk-parallel-item\"><div class=\"sk-item\"><div class=\"sk-label-container\"><div class=\"sk-label sk-toggleable\"><input class=\"sk-toggleable__control sk-hidden--visually\" id=\"sk-estimator-id-9\" type=\"checkbox\" ><label for=\"sk-estimator-id-9\" class=\"sk-toggleable__label sk-toggleable__label-arrow\">cat_pipe_ordinal</label><div class=\"sk-toggleable__content\"><pre>[&#x27;ExterQual&#x27;, &#x27;ExterCond&#x27;, &#x27;BsmtQual&#x27;, &#x27;BsmtCond&#x27;, &#x27;BsmtExposure&#x27;, &#x27;BsmtFinType1&#x27;, &#x27;KitchenQual&#x27;, &#x27;FireplaceQu&#x27;]</pre></div></div></div><div class=\"sk-serial\"><div class=\"sk-item\"><div class=\"sk-serial\"><div class=\"sk-item\"><div class=\"sk-estimator sk-toggleable\"><input class=\"sk-toggleable__control sk-hidden--visually\" id=\"sk-estimator-id-10\" type=\"checkbox\" ><label for=\"sk-estimator-id-10\" class=\"sk-toggleable__label sk-toggleable__label-arrow\">SimpleImputer</label><div class=\"sk-toggleable__content\"><pre>SimpleImputer(fill_value=&#x27;NA&#x27;, strategy=&#x27;constant&#x27;)</pre></div></div></div><div class=\"sk-item\"><div class=\"sk-estimator sk-toggleable\"><input class=\"sk-toggleable__control sk-hidden--visually\" id=\"sk-estimator-id-11\" type=\"checkbox\" ><label for=\"sk-estimator-id-11\" class=\"sk-toggleable__label sk-toggleable__label-arrow\">OrdinalEncoder</label><div class=\"sk-toggleable__content\"><pre>OrdinalEncoder(categories=[[&#x27;Po&#x27;, &#x27;Fa&#x27;, &#x27;TA&#x27;, &#x27;Gd&#x27;, &#x27;Ex&#x27;],\n",
       "                           [&#x27;Po&#x27;, &#x27;Fa&#x27;, &#x27;TA&#x27;, &#x27;Gd&#x27;, &#x27;Ex&#x27;],\n",
       "                           [&#x27;NA&#x27;, &#x27;Po&#x27;, &#x27;Fa&#x27;, &#x27;TA&#x27;, &#x27;Gd&#x27;, &#x27;Ex&#x27;],\n",
       "                           [&#x27;NA&#x27;, &#x27;Po&#x27;, &#x27;Fa&#x27;, &#x27;TA&#x27;, &#x27;Gd&#x27;, &#x27;Ex&#x27;],\n",
       "                           [&#x27;NA&#x27;, &#x27;No&#x27;, &#x27;Mn&#x27;, &#x27;Av&#x27;, &#x27;Gd&#x27;],\n",
       "                           [&#x27;NA&#x27;, &#x27;Unf&#x27;, &#x27;LwQ&#x27;, &#x27;Rec&#x27;, &#x27;BLQ&#x27;, &#x27;ALQ&#x27;, &#x27;GLQ&#x27;],\n",
       "                           [&#x27;Po&#x27;, &#x27;Fa&#x27;, &#x27;TA&#x27;, &#x27;Gd&#x27;, &#x27;Ex&#x27;],\n",
       "                           [&#x27;NA&#x27;, &#x27;Po&#x27;, &#x27;Fa&#x27;, &#x27;TA&#x27;, &#x27;Gd&#x27;, &#x27;Ex&#x27;]],\n",
       "               handle_unknown=&#x27;use_encoded_value&#x27;, unknown_value=-1)</pre></div></div></div></div></div></div></div></div></div></div><div class=\"sk-item\"><div class=\"sk-estimator sk-toggleable\"><input class=\"sk-toggleable__control sk-hidden--visually\" id=\"sk-estimator-id-12\" type=\"checkbox\" ><label for=\"sk-estimator-id-12\" class=\"sk-toggleable__label sk-toggleable__label-arrow\">DecisionTreeClassifier</label><div class=\"sk-toggleable__content\"><pre>DecisionTreeClassifier(random_state=42)</pre></div></div></div></div></div></div></div>"
      ],
      "text/plain": [
       "Pipeline(steps=[('columntransformer',\n",
       "                 ColumnTransformer(transformers=[('num_pipe',\n",
       "                                                  Pipeline(steps=[('simpleimputer',\n",
       "                                                                   SimpleImputer()),\n",
       "                                                                  ('minmaxscaler',\n",
       "                                                                   MinMaxScaler())]),\n",
       "                                                  ['LotArea', 'LotFrontage',\n",
       "                                                   'TotalBsmtSF',\n",
       "                                                   'BedroomAbvGr', 'Fireplaces',\n",
       "                                                   'PoolArea', 'GarageCars',\n",
       "                                                   'WoodDeckSF',\n",
       "                                                   'ScreenPorch']),\n",
       "                                                 ('cat_pipe_onehot',\n",
       "                                                  Pipeline(steps=[('simpleimputer',\n",
       "                                                                   SimpleImputer...\n",
       "                                                                                               'Mn',\n",
       "                                                                                               'Av',\n",
       "                                                                                               'Gd'],\n",
       "                                                                                              ['NA',\n",
       "                                                                                               'Unf',\n",
       "                                                                                               'LwQ',\n",
       "                                                                                               'Rec',\n",
       "                                                                                               'BLQ',\n",
       "                                                                                               'ALQ',\n",
       "                                                                                               'GLQ'],\n",
       "                                                                                              ['Po',\n",
       "                                                                                               'Fa',\n",
       "                                                                                               'TA',\n",
       "                                                                                               'Gd',\n",
       "                                                                                               'Ex'],\n",
       "                                                                                              ['NA',\n",
       "                                                                                               'Po',\n",
       "                                                                                               'Fa',\n",
       "                                                                                               'TA',\n",
       "                                                                                               'Gd',\n",
       "                                                                                               'Ex']],\n",
       "                                                                                  handle_unknown='use_encoded_value',\n",
       "                                                                                  unknown_value=-1))]),\n",
       "                                                  ['ExterQual', 'ExterCond',\n",
       "                                                   'BsmtQual', 'BsmtCond',\n",
       "                                                   'BsmtExposure',\n",
       "                                                   'BsmtFinType1',\n",
       "                                                   'KitchenQual',\n",
       "                                                   'FireplaceQu'])])),\n",
       "                ('decisiontreeclassifier',\n",
       "                 DecisionTreeClassifier(random_state=42))])"
      ]
     },
     "execution_count": 19,
     "metadata": {},
     "output_type": "execute_result"
    }
   ],
   "source": [
    "model_pipeline.fit(X_train, y_train)"
   ]
  },
  {
   "cell_type": "code",
   "execution_count": null,
   "id": "eefee699-6fd0-462a-a6ce-44ccb6f4d131",
   "metadata": {
    "tags": []
   },
   "outputs": [],
   "source": [
    "y_train_pred = model_pipeline.predict(X_train)\n",
    "\n",
    "accuracy_score(y_train, y_train_pred)"
   ]
  },
  {
   "cell_type": "code",
   "execution_count": null,
   "id": "8512f764-fbfd-4f45-b89f-53ef53663795",
   "metadata": {
    "tags": []
   },
   "outputs": [],
   "source": [
    "y_test_pred = model_pipeline.predict(X_test)\n",
    "\n",
    "accuracy_score(y_test, y_test_pred)"
   ]
  },
  {
   "cell_type": "markdown",
   "id": "4251fc6e-4b28-479b-9462-af24576c4071",
   "metadata": {},
   "source": [
    "# Refine Model"
   ]
  },
  {
   "cell_type": "code",
   "execution_count": 51,
   "id": "c79d5181-c58d-400f-a136-4337eb180719",
   "metadata": {
    "tags": []
   },
   "outputs": [],
   "source": [
    "#Other Model\n",
    "order_ExterQual = ['Other', 'Po', 'Fa', 'TA', 'Gd', 'Ex']\n",
    "order_ExterCond = ['Other', 'Po', 'Fa', 'TA', 'Gd', 'Ex']\n",
    "order_BsmtQual = ['NA', 'Other', 'Po', 'Fa', 'TA', 'Gd', 'Ex']\n",
    "order_BsmtCond = ['NA', 'Other', 'Po', 'Fa', 'TA', 'Gd', 'Ex']\n",
    "order_BsmtExposure = ['NA', 'No', 'Mn', 'Av', 'Gd']\n",
    "order_BsmtFinType1 = ['NA', 'Unf', 'LwQ', 'Rec', 'BLQ', 'ALQ', 'GLQ']\n",
    "order_KitchenQual = ['Other', 'Po', 'Fa', 'TA', 'Gd', 'Ex']\n",
    "order_FireplaceQu = ['NA', 'Other', 'Po', 'Fa', 'TA', 'Gd', 'Ex']\n",
    "\n",
    "# Setup the encoder\n",
    "ordinal_enc = OrdinalEncoder(\n",
    "    categories=[\n",
    "        order_ExterQual, order_ExterCond, order_BsmtQual, order_BsmtCond,\n",
    "        order_BsmtExposure, order_BsmtFinType1, order_KitchenQual, order_FireplaceQu\n",
    "    ],\n",
    "    handle_unknown='use_encoded_value',\n",
    "    unknown_value=-1\n",
    ")"
   ]
  },
  {
   "cell_type": "code",
   "execution_count": 21,
   "id": "8d47b03e-772a-42ad-b420-c0f72a8a776c",
   "metadata": {
    "tags": []
   },
   "outputs": [],
   "source": [
    "# # Define the custom orders\n",
    "# order_ExterQual = ['Po', 'Fa', 'TA', 'Gd', 'Ex']\n",
    "# order_ExterCond = ['Po', 'Fa', 'TA', 'Gd', 'Ex']\n",
    "# order_BsmtQual = ['NA', 'Po', 'Fa', 'TA', 'Gd', 'Ex']\n",
    "# order_BsmtCond = ['NA', 'Po', 'Fa', 'TA', 'Gd', 'Ex']\n",
    "# order_BsmtExposure = ['NA', 'No', 'Mn', 'Av', 'Gd']\n",
    "# order_BsmtFinType1 = ['NA', 'Unf', 'LwQ', 'Rec', 'BLQ', 'ALQ', 'GLQ']\n",
    "# order_KitchenQual = ['Po', 'Fa', 'TA', 'Gd', 'Ex']\n",
    "# order_FireplaceQu = ['NA', 'Po', 'Fa', 'TA', 'Gd', 'Ex']\n",
    "\n",
    "# # Setup the encoder\n",
    "# ordinal_enc = OrdinalEncoder(\n",
    "#     categories=[\n",
    "#         order_ExterQual, order_ExterCond, order_BsmtQual, order_BsmtCond,\n",
    "#         order_BsmtExposure, order_BsmtFinType1, order_KitchenQual, order_FireplaceQu\n",
    "#     ],\n",
    "#     handle_unknown='use_encoded_value',\n",
    "#     unknown_value=-1\n",
    "# )"
   ]
  },
  {
   "cell_type": "code",
   "execution_count": 52,
   "id": "eadca46b-d0d7-4fbe-a824-575e9c54e6c0",
   "metadata": {
    "tags": []
   },
   "outputs": [],
   "source": [
    "categoric_features_ordinal = [\n",
    "    'ExterQual', 'ExterCond', 'BsmtQual', 'BsmtCond', \n",
    "    'BsmtExposure', 'BsmtFinType1', 'KitchenQual', 'FireplaceQu'\n",
    "]\n",
    "\n",
    "categoric_pipe_ordinal = make_pipeline(\n",
    "    SimpleImputer(),  \n",
    "    ordinal_enc\n",
    ")"
   ]
  },
  {
   "cell_type": "code",
   "execution_count": 53,
   "id": "18edca77-216d-4722-ac61-fd93be4fbb93",
   "metadata": {
    "tags": []
   },
   "outputs": [],
   "source": [
    "all_categorical_cols = list(X_train.select_dtypes(include=[\"object\"]))\n",
    "categoric_features_onehot = list(set(all_categorical_cols) - set(categoric_features_ordinal))\n",
    "numeric_features = list(X_train.select_dtypes(exclude=[\"object\"]))"
   ]
  },
  {
   "cell_type": "code",
   "execution_count": 54,
   "id": "da0a7d3c-45a5-4cf3-8814-ac55aaf9b741",
   "metadata": {
    "tags": []
   },
   "outputs": [],
   "source": [
    "numeric_pipe = make_pipeline(\n",
    "    SimpleImputer(),\n",
    "    MinMaxScaler()\n",
    ")\n",
    "\n",
    "categoric_pipe_onehot = make_pipeline(\n",
    "    SimpleImputer(),\n",
    "    OneHotEncoder(handle_unknown='ignore')\n",
    ")\n",
    "\n",
    "categoric_pipe_ordinal = make_pipeline(\n",
    "    SimpleImputer(),\n",
    "    ordinal_enc \n",
    ")"
   ]
  },
  {
   "cell_type": "code",
   "execution_count": 55,
   "id": "78fe51ef-f6bc-48b9-b2c4-889b4623bde8",
   "metadata": {
    "tags": []
   },
   "outputs": [],
   "source": [
    "preprocessor = ColumnTransformer(\n",
    "    transformers=[\n",
    "        (\"num_pipe\", numeric_pipe, numeric_features),\n",
    "        (\"cat_pipe_onehot\", categoric_pipe_onehot, categoric_features_onehot),\n",
    "        (\"cat_pipe_ordinal\", categoric_pipe_ordinal, categoric_features_ordinal),\n",
    "    ]\n",
    ")"
   ]
  },
  {
   "cell_type": "code",
   "execution_count": 56,
   "id": "2db679ce-778f-4934-b2b7-309252bd6a08",
   "metadata": {
    "tags": []
   },
   "outputs": [],
   "source": [
    "dtree = DecisionTreeClassifier(random_state=42)"
   ]
  },
  {
   "cell_type": "code",
   "execution_count": 57,
   "id": "4e631a24-88ec-4208-97fd-8bf102cb2b7e",
   "metadata": {
    "tags": []
   },
   "outputs": [],
   "source": [
    "model_pipeline = make_pipeline(preprocessor, dtree)"
   ]
  },
  {
   "cell_type": "markdown",
   "id": "49f7d88a-5149-4c6e-8627-39a92776aa4a",
   "metadata": {},
   "source": [
    "## Cross Validation"
   ]
  },
  {
   "cell_type": "markdown",
   "id": "a16cd71c-4b86-4958-9b17-baf6a89a7888",
   "metadata": {},
   "source": [
    "### Randomized Grid Search"
   ]
  },
  {
   "cell_type": "code",
   "execution_count": 58,
   "id": "2c9e25de-2f48-458c-8314-214dfbbc4738",
   "metadata": {
    "tags": []
   },
   "outputs": [],
   "source": [
    "param_grid = {\n",
    "    \"columntransformer__num_pipe__simpleimputer__strategy\": [\"mean\", \"median\", \"most_frequent\"],\n",
    "    \"columntransformer__num_pipe__minmaxscaler__clip\": [True, False],\n",
    "    \"columntransformer__cat_pipe_onehot__simpleimputer__strategy\": [\"most_frequent\"],\n",
    "    \"columntransformer__cat_pipe_onehot__onehotencoder__drop\": [None, 'first'],\n",
    "    \"columntransformer__cat_pipe_onehot__onehotencoder__sparse_output\": [True, False],\n",
    "    \"columntransformer__cat_pipe_ordinal__simpleimputer__strategy\": [\"most_frequent\", \"constant\"],\n",
    "    \"columntransformer__cat_pipe_ordinal__simpleimputer__fill_value\": ['NA', 'missing'],\n",
    "    \"decisiontreeclassifier__max_depth\": range(2, 25),\n",
    "    \"decisiontreeclassifier__min_samples_leaf\": range(3, 30),\n",
    "    \"decisiontreeclassifier__criterion\": [\"gini\", \"entropy\"]\n",
    "}"
   ]
  },
  {
   "cell_type": "code",
   "execution_count": 59,
   "id": "d3bde460-2b25-4fe0-93bb-95893094ef15",
   "metadata": {
    "tags": []
   },
   "outputs": [],
   "source": [
    "search = RandomizedSearchCV(\n",
    "    model_pipeline,\n",
    "    param_grid,\n",
    "    n_iter=10000,  # specify number of iterations, 100 is just an example, adjust based on your computational capacity\n",
    "    cv=10,\n",
    "    verbose=1,\n",
    "    n_jobs=-2,\n",
    "    random_state=42\n",
    ")"
   ]
  },
  {
   "cell_type": "code",
   "execution_count": 60,
   "id": "81713ef6-6057-4ebc-bd4e-1495befbfba9",
   "metadata": {
    "tags": []
   },
   "outputs": [
    {
     "name": "stdout",
     "output_type": "stream",
     "text": [
      "Fitting 10 folds for each of 10000 candidates, totalling 100000 fits\n"
     ]
    },
    {
     "data": {
      "text/html": [
       "<style>#sk-container-id-4 {color: black;}#sk-container-id-4 pre{padding: 0;}#sk-container-id-4 div.sk-toggleable {background-color: white;}#sk-container-id-4 label.sk-toggleable__label {cursor: pointer;display: block;width: 100%;margin-bottom: 0;padding: 0.3em;box-sizing: border-box;text-align: center;}#sk-container-id-4 label.sk-toggleable__label-arrow:before {content: \"▸\";float: left;margin-right: 0.25em;color: #696969;}#sk-container-id-4 label.sk-toggleable__label-arrow:hover:before {color: black;}#sk-container-id-4 div.sk-estimator:hover label.sk-toggleable__label-arrow:before {color: black;}#sk-container-id-4 div.sk-toggleable__content {max-height: 0;max-width: 0;overflow: hidden;text-align: left;background-color: #f0f8ff;}#sk-container-id-4 div.sk-toggleable__content pre {margin: 0.2em;color: black;border-radius: 0.25em;background-color: #f0f8ff;}#sk-container-id-4 input.sk-toggleable__control:checked~div.sk-toggleable__content {max-height: 200px;max-width: 100%;overflow: auto;}#sk-container-id-4 input.sk-toggleable__control:checked~label.sk-toggleable__label-arrow:before {content: \"▾\";}#sk-container-id-4 div.sk-estimator input.sk-toggleable__control:checked~label.sk-toggleable__label {background-color: #d4ebff;}#sk-container-id-4 div.sk-label input.sk-toggleable__control:checked~label.sk-toggleable__label {background-color: #d4ebff;}#sk-container-id-4 input.sk-hidden--visually {border: 0;clip: rect(1px 1px 1px 1px);clip: rect(1px, 1px, 1px, 1px);height: 1px;margin: -1px;overflow: hidden;padding: 0;position: absolute;width: 1px;}#sk-container-id-4 div.sk-estimator {font-family: monospace;background-color: #f0f8ff;border: 1px dotted black;border-radius: 0.25em;box-sizing: border-box;margin-bottom: 0.5em;}#sk-container-id-4 div.sk-estimator:hover {background-color: #d4ebff;}#sk-container-id-4 div.sk-parallel-item::after {content: \"\";width: 100%;border-bottom: 1px solid gray;flex-grow: 1;}#sk-container-id-4 div.sk-label:hover label.sk-toggleable__label {background-color: #d4ebff;}#sk-container-id-4 div.sk-serial::before {content: \"\";position: absolute;border-left: 1px solid gray;box-sizing: border-box;top: 0;bottom: 0;left: 50%;z-index: 0;}#sk-container-id-4 div.sk-serial {display: flex;flex-direction: column;align-items: center;background-color: white;padding-right: 0.2em;padding-left: 0.2em;position: relative;}#sk-container-id-4 div.sk-item {position: relative;z-index: 1;}#sk-container-id-4 div.sk-parallel {display: flex;align-items: stretch;justify-content: center;background-color: white;position: relative;}#sk-container-id-4 div.sk-item::before, #sk-container-id-4 div.sk-parallel-item::before {content: \"\";position: absolute;border-left: 1px solid gray;box-sizing: border-box;top: 0;bottom: 0;left: 50%;z-index: -1;}#sk-container-id-4 div.sk-parallel-item {display: flex;flex-direction: column;z-index: 1;position: relative;background-color: white;}#sk-container-id-4 div.sk-parallel-item:first-child::after {align-self: flex-end;width: 50%;}#sk-container-id-4 div.sk-parallel-item:last-child::after {align-self: flex-start;width: 50%;}#sk-container-id-4 div.sk-parallel-item:only-child::after {width: 0;}#sk-container-id-4 div.sk-dashed-wrapped {border: 1px dashed gray;margin: 0 0.4em 0.5em 0.4em;box-sizing: border-box;padding-bottom: 0.4em;background-color: white;}#sk-container-id-4 div.sk-label label {font-family: monospace;font-weight: bold;display: inline-block;line-height: 1.2em;}#sk-container-id-4 div.sk-label-container {text-align: center;}#sk-container-id-4 div.sk-container {/* jupyter's `normalize.less` sets `[hidden] { display: none; }` but bootstrap.min.css set `[hidden] { display: none !important; }` so we also need the `!important` here to be able to override the default hidden behavior on the sphinx rendered scikit-learn.org. See: https://github.com/scikit-learn/scikit-learn/issues/21755 */display: inline-block !important;position: relative;}#sk-container-id-4 div.sk-text-repr-fallback {display: none;}</style><div id=\"sk-container-id-4\" class=\"sk-top-container\"><div class=\"sk-text-repr-fallback\"><pre>RandomizedSearchCV(cv=10,\n",
       "                   estimator=Pipeline(steps=[(&#x27;columntransformer&#x27;,\n",
       "                                              ColumnTransformer(transformers=[(&#x27;num_pipe&#x27;,\n",
       "                                                                               Pipeline(steps=[(&#x27;simpleimputer&#x27;,\n",
       "                                                                                                SimpleImputer()),\n",
       "                                                                                               (&#x27;minmaxscaler&#x27;,\n",
       "                                                                                                MinMaxScaler())]),\n",
       "                                                                               [&#x27;LotArea&#x27;,\n",
       "                                                                                &#x27;LotFrontage&#x27;,\n",
       "                                                                                &#x27;TotalBsmtSF&#x27;,\n",
       "                                                                                &#x27;BedroomAbvGr&#x27;,\n",
       "                                                                                &#x27;Fireplaces&#x27;,\n",
       "                                                                                &#x27;PoolArea&#x27;,\n",
       "                                                                                &#x27;GarageCars&#x27;,\n",
       "                                                                                &#x27;WoodDeckSF&#x27;,\n",
       "                                                                                &#x27;ScreenPorch&#x27;]),\n",
       "                                                                              (&#x27;cat_pipe_onehot&#x27;,\n",
       "                                                                               Pipeline(st...\n",
       "                                        &#x27;columntransformer__cat_pipe_ordinal__simpleimputer__strategy&#x27;: [&#x27;most_frequent&#x27;,\n",
       "                                                                                                         &#x27;constant&#x27;],\n",
       "                                        &#x27;columntransformer__num_pipe__minmaxscaler__clip&#x27;: [True,\n",
       "                                                                                            False],\n",
       "                                        &#x27;columntransformer__num_pipe__simpleimputer__strategy&#x27;: [&#x27;mean&#x27;,\n",
       "                                                                                                 &#x27;median&#x27;,\n",
       "                                                                                                 &#x27;most_frequent&#x27;],\n",
       "                                        &#x27;decisiontreeclassifier__criterion&#x27;: [&#x27;gini&#x27;,\n",
       "                                                                              &#x27;entropy&#x27;],\n",
       "                                        &#x27;decisiontreeclassifier__max_depth&#x27;: range(2, 25),\n",
       "                                        &#x27;decisiontreeclassifier__min_samples_leaf&#x27;: range(3, 30)},\n",
       "                   random_state=42, verbose=1)</pre><b>In a Jupyter environment, please rerun this cell to show the HTML representation or trust the notebook. <br />On GitHub, the HTML representation is unable to render, please try loading this page with nbviewer.org.</b></div><div class=\"sk-container\" hidden><div class=\"sk-item sk-dashed-wrapped\"><div class=\"sk-label-container\"><div class=\"sk-label sk-toggleable\"><input class=\"sk-toggleable__control sk-hidden--visually\" id=\"sk-estimator-id-39\" type=\"checkbox\" ><label for=\"sk-estimator-id-39\" class=\"sk-toggleable__label sk-toggleable__label-arrow\">RandomizedSearchCV</label><div class=\"sk-toggleable__content\"><pre>RandomizedSearchCV(cv=10,\n",
       "                   estimator=Pipeline(steps=[(&#x27;columntransformer&#x27;,\n",
       "                                              ColumnTransformer(transformers=[(&#x27;num_pipe&#x27;,\n",
       "                                                                               Pipeline(steps=[(&#x27;simpleimputer&#x27;,\n",
       "                                                                                                SimpleImputer()),\n",
       "                                                                                               (&#x27;minmaxscaler&#x27;,\n",
       "                                                                                                MinMaxScaler())]),\n",
       "                                                                               [&#x27;LotArea&#x27;,\n",
       "                                                                                &#x27;LotFrontage&#x27;,\n",
       "                                                                                &#x27;TotalBsmtSF&#x27;,\n",
       "                                                                                &#x27;BedroomAbvGr&#x27;,\n",
       "                                                                                &#x27;Fireplaces&#x27;,\n",
       "                                                                                &#x27;PoolArea&#x27;,\n",
       "                                                                                &#x27;GarageCars&#x27;,\n",
       "                                                                                &#x27;WoodDeckSF&#x27;,\n",
       "                                                                                &#x27;ScreenPorch&#x27;]),\n",
       "                                                                              (&#x27;cat_pipe_onehot&#x27;,\n",
       "                                                                               Pipeline(st...\n",
       "                                        &#x27;columntransformer__cat_pipe_ordinal__simpleimputer__strategy&#x27;: [&#x27;most_frequent&#x27;,\n",
       "                                                                                                         &#x27;constant&#x27;],\n",
       "                                        &#x27;columntransformer__num_pipe__minmaxscaler__clip&#x27;: [True,\n",
       "                                                                                            False],\n",
       "                                        &#x27;columntransformer__num_pipe__simpleimputer__strategy&#x27;: [&#x27;mean&#x27;,\n",
       "                                                                                                 &#x27;median&#x27;,\n",
       "                                                                                                 &#x27;most_frequent&#x27;],\n",
       "                                        &#x27;decisiontreeclassifier__criterion&#x27;: [&#x27;gini&#x27;,\n",
       "                                                                              &#x27;entropy&#x27;],\n",
       "                                        &#x27;decisiontreeclassifier__max_depth&#x27;: range(2, 25),\n",
       "                                        &#x27;decisiontreeclassifier__min_samples_leaf&#x27;: range(3, 30)},\n",
       "                   random_state=42, verbose=1)</pre></div></div></div><div class=\"sk-parallel\"><div class=\"sk-parallel-item\"><div class=\"sk-item\"><div class=\"sk-label-container\"><div class=\"sk-label sk-toggleable\"><input class=\"sk-toggleable__control sk-hidden--visually\" id=\"sk-estimator-id-40\" type=\"checkbox\" ><label for=\"sk-estimator-id-40\" class=\"sk-toggleable__label sk-toggleable__label-arrow\">estimator: Pipeline</label><div class=\"sk-toggleable__content\"><pre>Pipeline(steps=[(&#x27;columntransformer&#x27;,\n",
       "                 ColumnTransformer(transformers=[(&#x27;num_pipe&#x27;,\n",
       "                                                  Pipeline(steps=[(&#x27;simpleimputer&#x27;,\n",
       "                                                                   SimpleImputer()),\n",
       "                                                                  (&#x27;minmaxscaler&#x27;,\n",
       "                                                                   MinMaxScaler())]),\n",
       "                                                  [&#x27;LotArea&#x27;, &#x27;LotFrontage&#x27;,\n",
       "                                                   &#x27;TotalBsmtSF&#x27;,\n",
       "                                                   &#x27;BedroomAbvGr&#x27;, &#x27;Fireplaces&#x27;,\n",
       "                                                   &#x27;PoolArea&#x27;, &#x27;GarageCars&#x27;,\n",
       "                                                   &#x27;WoodDeckSF&#x27;,\n",
       "                                                   &#x27;ScreenPorch&#x27;]),\n",
       "                                                 (&#x27;cat_pipe_onehot&#x27;,\n",
       "                                                  Pipeline(steps=[(&#x27;simpleimputer&#x27;,\n",
       "                                                                   SimpleImputer...\n",
       "                                                                                              [&#x27;NA&#x27;,\n",
       "                                                                                               &#x27;Unf&#x27;,\n",
       "                                                                                               &#x27;LwQ&#x27;,\n",
       "                                                                                               &#x27;Rec&#x27;,\n",
       "                                                                                               &#x27;BLQ&#x27;,\n",
       "                                                                                               &#x27;ALQ&#x27;,\n",
       "                                                                                               &#x27;GLQ&#x27;],\n",
       "                                                                                              [&#x27;Other&#x27;,\n",
       "                                                                                               &#x27;Po&#x27;,\n",
       "                                                                                               &#x27;Fa&#x27;,\n",
       "                                                                                               &#x27;TA&#x27;,\n",
       "                                                                                               &#x27;Gd&#x27;,\n",
       "                                                                                               &#x27;Ex&#x27;],\n",
       "                                                                                              [&#x27;NA&#x27;,\n",
       "                                                                                               &#x27;Other&#x27;,\n",
       "                                                                                               &#x27;Po&#x27;,\n",
       "                                                                                               &#x27;Fa&#x27;,\n",
       "                                                                                               &#x27;TA&#x27;,\n",
       "                                                                                               &#x27;Gd&#x27;,\n",
       "                                                                                               &#x27;Ex&#x27;]],\n",
       "                                                                                  handle_unknown=&#x27;use_encoded_value&#x27;,\n",
       "                                                                                  unknown_value=-1))]),\n",
       "                                                  [&#x27;ExterQual&#x27;, &#x27;ExterCond&#x27;,\n",
       "                                                   &#x27;BsmtQual&#x27;, &#x27;BsmtCond&#x27;,\n",
       "                                                   &#x27;BsmtExposure&#x27;,\n",
       "                                                   &#x27;BsmtFinType1&#x27;,\n",
       "                                                   &#x27;KitchenQual&#x27;,\n",
       "                                                   &#x27;FireplaceQu&#x27;])])),\n",
       "                (&#x27;decisiontreeclassifier&#x27;,\n",
       "                 DecisionTreeClassifier(random_state=42))])</pre></div></div></div><div class=\"sk-serial\"><div class=\"sk-item\"><div class=\"sk-serial\"><div class=\"sk-item sk-dashed-wrapped\"><div class=\"sk-label-container\"><div class=\"sk-label sk-toggleable\"><input class=\"sk-toggleable__control sk-hidden--visually\" id=\"sk-estimator-id-41\" type=\"checkbox\" ><label for=\"sk-estimator-id-41\" class=\"sk-toggleable__label sk-toggleable__label-arrow\">columntransformer: ColumnTransformer</label><div class=\"sk-toggleable__content\"><pre>ColumnTransformer(transformers=[(&#x27;num_pipe&#x27;,\n",
       "                                 Pipeline(steps=[(&#x27;simpleimputer&#x27;,\n",
       "                                                  SimpleImputer()),\n",
       "                                                 (&#x27;minmaxscaler&#x27;,\n",
       "                                                  MinMaxScaler())]),\n",
       "                                 [&#x27;LotArea&#x27;, &#x27;LotFrontage&#x27;, &#x27;TotalBsmtSF&#x27;,\n",
       "                                  &#x27;BedroomAbvGr&#x27;, &#x27;Fireplaces&#x27;, &#x27;PoolArea&#x27;,\n",
       "                                  &#x27;GarageCars&#x27;, &#x27;WoodDeckSF&#x27;, &#x27;ScreenPorch&#x27;]),\n",
       "                                (&#x27;cat_pipe_onehot&#x27;,\n",
       "                                 Pipeline(steps=[(&#x27;simpleimputer&#x27;,\n",
       "                                                  SimpleImputer()),\n",
       "                                                 (&#x27;onehotencoder&#x27;,\n",
       "                                                  OneHotEncoder(ha...\n",
       "                                                                             [&#x27;NA&#x27;,\n",
       "                                                                              &#x27;Other&#x27;,\n",
       "                                                                              &#x27;Po&#x27;,\n",
       "                                                                              &#x27;Fa&#x27;,\n",
       "                                                                              &#x27;TA&#x27;,\n",
       "                                                                              &#x27;Gd&#x27;,\n",
       "                                                                              &#x27;Ex&#x27;],\n",
       "                                                                             [&#x27;NA&#x27;,\n",
       "                                                                              &#x27;No&#x27;,\n",
       "                                                                              &#x27;Mn&#x27;,\n",
       "                                                                              &#x27;Av&#x27;,\n",
       "                                                                              &#x27;Gd&#x27;],\n",
       "                                                                             [&#x27;NA&#x27;,\n",
       "                                                                              &#x27;Unf&#x27;,\n",
       "                                                                              &#x27;LwQ&#x27;,\n",
       "                                                                              &#x27;Rec&#x27;,\n",
       "                                                                              &#x27;BLQ&#x27;,\n",
       "                                                                              &#x27;ALQ&#x27;,\n",
       "                                                                              &#x27;GLQ&#x27;],\n",
       "                                                                             [&#x27;Other&#x27;,\n",
       "                                                                              &#x27;Po&#x27;,\n",
       "                                                                              &#x27;Fa&#x27;,\n",
       "                                                                              &#x27;TA&#x27;,\n",
       "                                                                              &#x27;Gd&#x27;,\n",
       "                                                                              &#x27;Ex&#x27;],\n",
       "                                                                             [&#x27;NA&#x27;,\n",
       "                                                                              &#x27;Other&#x27;,\n",
       "                                                                              &#x27;Po&#x27;,\n",
       "                                                                              &#x27;Fa&#x27;,\n",
       "                                                                              &#x27;TA&#x27;,\n",
       "                                                                              &#x27;Gd&#x27;,\n",
       "                                                                              &#x27;Ex&#x27;]],\n",
       "                                                                 handle_unknown=&#x27;use_encoded_value&#x27;,\n",
       "                                                                 unknown_value=-1))]),\n",
       "                                 [&#x27;ExterQual&#x27;, &#x27;ExterCond&#x27;, &#x27;BsmtQual&#x27;,\n",
       "                                  &#x27;BsmtCond&#x27;, &#x27;BsmtExposure&#x27;, &#x27;BsmtFinType1&#x27;,\n",
       "                                  &#x27;KitchenQual&#x27;, &#x27;FireplaceQu&#x27;])])</pre></div></div></div><div class=\"sk-parallel\"><div class=\"sk-parallel-item\"><div class=\"sk-item\"><div class=\"sk-label-container\"><div class=\"sk-label sk-toggleable\"><input class=\"sk-toggleable__control sk-hidden--visually\" id=\"sk-estimator-id-42\" type=\"checkbox\" ><label for=\"sk-estimator-id-42\" class=\"sk-toggleable__label sk-toggleable__label-arrow\">num_pipe</label><div class=\"sk-toggleable__content\"><pre>[&#x27;LotArea&#x27;, &#x27;LotFrontage&#x27;, &#x27;TotalBsmtSF&#x27;, &#x27;BedroomAbvGr&#x27;, &#x27;Fireplaces&#x27;, &#x27;PoolArea&#x27;, &#x27;GarageCars&#x27;, &#x27;WoodDeckSF&#x27;, &#x27;ScreenPorch&#x27;]</pre></div></div></div><div class=\"sk-serial\"><div class=\"sk-item\"><div class=\"sk-serial\"><div class=\"sk-item\"><div class=\"sk-estimator sk-toggleable\"><input class=\"sk-toggleable__control sk-hidden--visually\" id=\"sk-estimator-id-43\" type=\"checkbox\" ><label for=\"sk-estimator-id-43\" class=\"sk-toggleable__label sk-toggleable__label-arrow\">SimpleImputer</label><div class=\"sk-toggleable__content\"><pre>SimpleImputer()</pre></div></div></div><div class=\"sk-item\"><div class=\"sk-estimator sk-toggleable\"><input class=\"sk-toggleable__control sk-hidden--visually\" id=\"sk-estimator-id-44\" type=\"checkbox\" ><label for=\"sk-estimator-id-44\" class=\"sk-toggleable__label sk-toggleable__label-arrow\">MinMaxScaler</label><div class=\"sk-toggleable__content\"><pre>MinMaxScaler()</pre></div></div></div></div></div></div></div></div><div class=\"sk-parallel-item\"><div class=\"sk-item\"><div class=\"sk-label-container\"><div class=\"sk-label sk-toggleable\"><input class=\"sk-toggleable__control sk-hidden--visually\" id=\"sk-estimator-id-45\" type=\"checkbox\" ><label for=\"sk-estimator-id-45\" class=\"sk-toggleable__label sk-toggleable__label-arrow\">cat_pipe_onehot</label><div class=\"sk-toggleable__content\"><pre>[&#x27;Heating&#x27;, &#x27;Foundation&#x27;, &#x27;CentralAir&#x27;, &#x27;MSZoning&#x27;, &#x27;Street&#x27;, &#x27;Condition1&#x27;]</pre></div></div></div><div class=\"sk-serial\"><div class=\"sk-item\"><div class=\"sk-serial\"><div class=\"sk-item\"><div class=\"sk-estimator sk-toggleable\"><input class=\"sk-toggleable__control sk-hidden--visually\" id=\"sk-estimator-id-46\" type=\"checkbox\" ><label for=\"sk-estimator-id-46\" class=\"sk-toggleable__label sk-toggleable__label-arrow\">SimpleImputer</label><div class=\"sk-toggleable__content\"><pre>SimpleImputer()</pre></div></div></div><div class=\"sk-item\"><div class=\"sk-estimator sk-toggleable\"><input class=\"sk-toggleable__control sk-hidden--visually\" id=\"sk-estimator-id-47\" type=\"checkbox\" ><label for=\"sk-estimator-id-47\" class=\"sk-toggleable__label sk-toggleable__label-arrow\">OneHotEncoder</label><div class=\"sk-toggleable__content\"><pre>OneHotEncoder(handle_unknown=&#x27;ignore&#x27;)</pre></div></div></div></div></div></div></div></div><div class=\"sk-parallel-item\"><div class=\"sk-item\"><div class=\"sk-label-container\"><div class=\"sk-label sk-toggleable\"><input class=\"sk-toggleable__control sk-hidden--visually\" id=\"sk-estimator-id-48\" type=\"checkbox\" ><label for=\"sk-estimator-id-48\" class=\"sk-toggleable__label sk-toggleable__label-arrow\">cat_pipe_ordinal</label><div class=\"sk-toggleable__content\"><pre>[&#x27;ExterQual&#x27;, &#x27;ExterCond&#x27;, &#x27;BsmtQual&#x27;, &#x27;BsmtCond&#x27;, &#x27;BsmtExposure&#x27;, &#x27;BsmtFinType1&#x27;, &#x27;KitchenQual&#x27;, &#x27;FireplaceQu&#x27;]</pre></div></div></div><div class=\"sk-serial\"><div class=\"sk-item\"><div class=\"sk-serial\"><div class=\"sk-item\"><div class=\"sk-estimator sk-toggleable\"><input class=\"sk-toggleable__control sk-hidden--visually\" id=\"sk-estimator-id-49\" type=\"checkbox\" ><label for=\"sk-estimator-id-49\" class=\"sk-toggleable__label sk-toggleable__label-arrow\">SimpleImputer</label><div class=\"sk-toggleable__content\"><pre>SimpleImputer()</pre></div></div></div><div class=\"sk-item\"><div class=\"sk-estimator sk-toggleable\"><input class=\"sk-toggleable__control sk-hidden--visually\" id=\"sk-estimator-id-50\" type=\"checkbox\" ><label for=\"sk-estimator-id-50\" class=\"sk-toggleable__label sk-toggleable__label-arrow\">OrdinalEncoder</label><div class=\"sk-toggleable__content\"><pre>OrdinalEncoder(categories=[[&#x27;Other&#x27;, &#x27;Po&#x27;, &#x27;Fa&#x27;, &#x27;TA&#x27;, &#x27;Gd&#x27;, &#x27;Ex&#x27;],\n",
       "                           [&#x27;Other&#x27;, &#x27;Po&#x27;, &#x27;Fa&#x27;, &#x27;TA&#x27;, &#x27;Gd&#x27;, &#x27;Ex&#x27;],\n",
       "                           [&#x27;NA&#x27;, &#x27;Other&#x27;, &#x27;Po&#x27;, &#x27;Fa&#x27;, &#x27;TA&#x27;, &#x27;Gd&#x27;, &#x27;Ex&#x27;],\n",
       "                           [&#x27;NA&#x27;, &#x27;Other&#x27;, &#x27;Po&#x27;, &#x27;Fa&#x27;, &#x27;TA&#x27;, &#x27;Gd&#x27;, &#x27;Ex&#x27;],\n",
       "                           [&#x27;NA&#x27;, &#x27;No&#x27;, &#x27;Mn&#x27;, &#x27;Av&#x27;, &#x27;Gd&#x27;],\n",
       "                           [&#x27;NA&#x27;, &#x27;Unf&#x27;, &#x27;LwQ&#x27;, &#x27;Rec&#x27;, &#x27;BLQ&#x27;, &#x27;ALQ&#x27;, &#x27;GLQ&#x27;],\n",
       "                           [&#x27;Other&#x27;, &#x27;Po&#x27;, &#x27;Fa&#x27;, &#x27;TA&#x27;, &#x27;Gd&#x27;, &#x27;Ex&#x27;],\n",
       "                           [&#x27;NA&#x27;, &#x27;Other&#x27;, &#x27;Po&#x27;, &#x27;Fa&#x27;, &#x27;TA&#x27;, &#x27;Gd&#x27;, &#x27;Ex&#x27;]],\n",
       "               handle_unknown=&#x27;use_encoded_value&#x27;, unknown_value=-1)</pre></div></div></div></div></div></div></div></div></div></div><div class=\"sk-item\"><div class=\"sk-estimator sk-toggleable\"><input class=\"sk-toggleable__control sk-hidden--visually\" id=\"sk-estimator-id-51\" type=\"checkbox\" ><label for=\"sk-estimator-id-51\" class=\"sk-toggleable__label sk-toggleable__label-arrow\">DecisionTreeClassifier</label><div class=\"sk-toggleable__content\"><pre>DecisionTreeClassifier(random_state=42)</pre></div></div></div></div></div></div></div></div></div></div></div></div>"
      ],
      "text/plain": [
       "RandomizedSearchCV(cv=10,\n",
       "                   estimator=Pipeline(steps=[('columntransformer',\n",
       "                                              ColumnTransformer(transformers=[('num_pipe',\n",
       "                                                                               Pipeline(steps=[('simpleimputer',\n",
       "                                                                                                SimpleImputer()),\n",
       "                                                                                               ('minmaxscaler',\n",
       "                                                                                                MinMaxScaler())]),\n",
       "                                                                               ['LotArea',\n",
       "                                                                                'LotFrontage',\n",
       "                                                                                'TotalBsmtSF',\n",
       "                                                                                'BedroomAbvGr',\n",
       "                                                                                'Fireplaces',\n",
       "                                                                                'PoolArea',\n",
       "                                                                                'GarageCars',\n",
       "                                                                                'WoodDeckSF',\n",
       "                                                                                'ScreenPorch']),\n",
       "                                                                              ('cat_pipe_onehot',\n",
       "                                                                               Pipeline(st...\n",
       "                                        'columntransformer__cat_pipe_ordinal__simpleimputer__strategy': ['most_frequent',\n",
       "                                                                                                         'constant'],\n",
       "                                        'columntransformer__num_pipe__minmaxscaler__clip': [True,\n",
       "                                                                                            False],\n",
       "                                        'columntransformer__num_pipe__simpleimputer__strategy': ['mean',\n",
       "                                                                                                 'median',\n",
       "                                                                                                 'most_frequent'],\n",
       "                                        'decisiontreeclassifier__criterion': ['gini',\n",
       "                                                                              'entropy'],\n",
       "                                        'decisiontreeclassifier__max_depth': range(2, 25),\n",
       "                                        'decisiontreeclassifier__min_samples_leaf': range(3, 30)},\n",
       "                   random_state=42, verbose=1)"
      ]
     },
     "execution_count": 60,
     "metadata": {},
     "output_type": "execute_result"
    }
   ],
   "source": [
    "search.fit(X_train, y_train)"
   ]
  },
  {
   "cell_type": "code",
   "execution_count": 61,
   "id": "9bfd3e1c-a1f9-44a6-a5d8-9c39f07938a7",
   "metadata": {
    "tags": []
   },
   "outputs": [
    {
     "data": {
      "text/plain": [
       "0.9174108458591217"
      ]
     },
     "execution_count": 61,
     "metadata": {},
     "output_type": "execute_result"
    }
   ],
   "source": [
    "search.best_score_"
   ]
  },
  {
   "cell_type": "code",
   "execution_count": 62,
   "id": "11ec60ef-6301-4286-9133-df63240aa169",
   "metadata": {
    "tags": []
   },
   "outputs": [
    {
     "data": {
      "text/plain": [
       "0.9277730008598453"
      ]
     },
     "execution_count": 62,
     "metadata": {},
     "output_type": "execute_result"
    }
   ],
   "source": [
    "y_train_pred = search.predict(X_train)\n",
    "\n",
    "accuracy_score(y_train, y_train_pred)"
   ]
  },
  {
   "cell_type": "code",
   "execution_count": 63,
   "id": "eccf922f-4d94-46c3-9d3f-f57031c7e38f",
   "metadata": {
    "tags": []
   },
   "outputs": [
    {
     "data": {
      "text/plain": [
       "0.9381443298969072"
      ]
     },
     "execution_count": 63,
     "metadata": {},
     "output_type": "execute_result"
    }
   ],
   "source": [
    "y_test_pred = search.predict(X_test)\n",
    "\n",
    "accuracy_score(y_test, y_test_pred)"
   ]
  },
  {
   "cell_type": "code",
   "execution_count": 64,
   "id": "a71de88a-c78d-4fb7-ab88-ad09c5e8c115",
   "metadata": {
    "tags": []
   },
   "outputs": [
    {
     "data": {
      "text/plain": [
       "{'decisiontreeclassifier__min_samples_leaf': 10,\n",
       " 'decisiontreeclassifier__max_depth': 4,\n",
       " 'decisiontreeclassifier__criterion': 'entropy',\n",
       " 'columntransformer__num_pipe__simpleimputer__strategy': 'mean',\n",
       " 'columntransformer__num_pipe__minmaxscaler__clip': False,\n",
       " 'columntransformer__cat_pipe_ordinal__simpleimputer__strategy': 'most_frequent',\n",
       " 'columntransformer__cat_pipe_ordinal__simpleimputer__fill_value': 'missing',\n",
       " 'columntransformer__cat_pipe_onehot__simpleimputer__strategy': 'most_frequent',\n",
       " 'columntransformer__cat_pipe_onehot__onehotencoder__sparse_output': False,\n",
       " 'columntransformer__cat_pipe_onehot__onehotencoder__drop': 'first'}"
      ]
     },
     "execution_count": 64,
     "metadata": {},
     "output_type": "execute_result"
    }
   ],
   "source": [
    "search.best_params_"
   ]
  },
  {
   "cell_type": "markdown",
   "id": "66407467-49f1-43c9-9e14-922572fa1582",
   "metadata": {},
   "source": [
    "### Grid Search"
   ]
  },
  {
   "cell_type": "code",
   "execution_count": 65,
   "id": "dce6384a-d0d2-4fdd-a24f-8bb370a65374",
   "metadata": {
    "tags": []
   },
   "outputs": [],
   "source": [
    "param_grid = {\n",
    "    \"columntransformer__num_pipe__simpleimputer__strategy\": [\"mean\", \"median\", \"most_frequent\"],\n",
    "    \"columntransformer__num_pipe__minmaxscaler__clip\": [True, False],\n",
    "    \"columntransformer__cat_pipe_onehot__simpleimputer__strategy\": [\"most_frequent\", \"constant\"],\n",
    "    \"columntransformer__cat_pipe_onehot__simpleimputer__fill_value\": ['NA', 'missing'],\n",
    "    \"columntransformer__cat_pipe_onehot__onehotencoder__drop\": [None, 'first'],\n",
    "    \"columntransformer__cat_pipe_onehot__onehotencoder__sparse_output\": [True, False],\n",
    "    \"columntransformer__cat_pipe_ordinal__simpleimputer__strategy\": [\"most_frequent\", \"constant\"],\n",
    "    \"columntransformer__cat_pipe_ordinal__simpleimputer__fill_value\": ['NA', 'missing'],\n",
    "    \"decisiontreeclassifier__max_depth\": range(2, 8),\n",
    "    \"decisiontreeclassifier__min_samples_leaf\": range(8, 12),\n",
    "    \"decisiontreeclassifier__criterion\": [\"gini\", \"entropy\"]\n",
    "}"
   ]
  },
  {
   "cell_type": "code",
   "execution_count": 66,
   "id": "8d598f7a-a023-4125-a2c1-10a546ffaa51",
   "metadata": {
    "tags": []
   },
   "outputs": [],
   "source": [
    "search = GridSearchCV(\n",
    "    model_pipeline,\n",
    "    param_grid,\n",
    "    cv=10,\n",
    "    n_jobs=-2,\n",
    "    verbose=1\n",
    ")"
   ]
  },
  {
   "cell_type": "code",
   "execution_count": 67,
   "id": "42874e4b-90f3-4d4e-9144-e005ae672267",
   "metadata": {
    "tags": []
   },
   "outputs": [
    {
     "name": "stdout",
     "output_type": "stream",
     "text": [
      "Fitting 10 folds for each of 18432 candidates, totalling 184320 fits\n"
     ]
    },
    {
     "data": {
      "text/html": [
       "<style>#sk-container-id-5 {color: black;}#sk-container-id-5 pre{padding: 0;}#sk-container-id-5 div.sk-toggleable {background-color: white;}#sk-container-id-5 label.sk-toggleable__label {cursor: pointer;display: block;width: 100%;margin-bottom: 0;padding: 0.3em;box-sizing: border-box;text-align: center;}#sk-container-id-5 label.sk-toggleable__label-arrow:before {content: \"▸\";float: left;margin-right: 0.25em;color: #696969;}#sk-container-id-5 label.sk-toggleable__label-arrow:hover:before {color: black;}#sk-container-id-5 div.sk-estimator:hover label.sk-toggleable__label-arrow:before {color: black;}#sk-container-id-5 div.sk-toggleable__content {max-height: 0;max-width: 0;overflow: hidden;text-align: left;background-color: #f0f8ff;}#sk-container-id-5 div.sk-toggleable__content pre {margin: 0.2em;color: black;border-radius: 0.25em;background-color: #f0f8ff;}#sk-container-id-5 input.sk-toggleable__control:checked~div.sk-toggleable__content {max-height: 200px;max-width: 100%;overflow: auto;}#sk-container-id-5 input.sk-toggleable__control:checked~label.sk-toggleable__label-arrow:before {content: \"▾\";}#sk-container-id-5 div.sk-estimator input.sk-toggleable__control:checked~label.sk-toggleable__label {background-color: #d4ebff;}#sk-container-id-5 div.sk-label input.sk-toggleable__control:checked~label.sk-toggleable__label {background-color: #d4ebff;}#sk-container-id-5 input.sk-hidden--visually {border: 0;clip: rect(1px 1px 1px 1px);clip: rect(1px, 1px, 1px, 1px);height: 1px;margin: -1px;overflow: hidden;padding: 0;position: absolute;width: 1px;}#sk-container-id-5 div.sk-estimator {font-family: monospace;background-color: #f0f8ff;border: 1px dotted black;border-radius: 0.25em;box-sizing: border-box;margin-bottom: 0.5em;}#sk-container-id-5 div.sk-estimator:hover {background-color: #d4ebff;}#sk-container-id-5 div.sk-parallel-item::after {content: \"\";width: 100%;border-bottom: 1px solid gray;flex-grow: 1;}#sk-container-id-5 div.sk-label:hover label.sk-toggleable__label {background-color: #d4ebff;}#sk-container-id-5 div.sk-serial::before {content: \"\";position: absolute;border-left: 1px solid gray;box-sizing: border-box;top: 0;bottom: 0;left: 50%;z-index: 0;}#sk-container-id-5 div.sk-serial {display: flex;flex-direction: column;align-items: center;background-color: white;padding-right: 0.2em;padding-left: 0.2em;position: relative;}#sk-container-id-5 div.sk-item {position: relative;z-index: 1;}#sk-container-id-5 div.sk-parallel {display: flex;align-items: stretch;justify-content: center;background-color: white;position: relative;}#sk-container-id-5 div.sk-item::before, #sk-container-id-5 div.sk-parallel-item::before {content: \"\";position: absolute;border-left: 1px solid gray;box-sizing: border-box;top: 0;bottom: 0;left: 50%;z-index: -1;}#sk-container-id-5 div.sk-parallel-item {display: flex;flex-direction: column;z-index: 1;position: relative;background-color: white;}#sk-container-id-5 div.sk-parallel-item:first-child::after {align-self: flex-end;width: 50%;}#sk-container-id-5 div.sk-parallel-item:last-child::after {align-self: flex-start;width: 50%;}#sk-container-id-5 div.sk-parallel-item:only-child::after {width: 0;}#sk-container-id-5 div.sk-dashed-wrapped {border: 1px dashed gray;margin: 0 0.4em 0.5em 0.4em;box-sizing: border-box;padding-bottom: 0.4em;background-color: white;}#sk-container-id-5 div.sk-label label {font-family: monospace;font-weight: bold;display: inline-block;line-height: 1.2em;}#sk-container-id-5 div.sk-label-container {text-align: center;}#sk-container-id-5 div.sk-container {/* jupyter's `normalize.less` sets `[hidden] { display: none; }` but bootstrap.min.css set `[hidden] { display: none !important; }` so we also need the `!important` here to be able to override the default hidden behavior on the sphinx rendered scikit-learn.org. See: https://github.com/scikit-learn/scikit-learn/issues/21755 */display: inline-block !important;position: relative;}#sk-container-id-5 div.sk-text-repr-fallback {display: none;}</style><div id=\"sk-container-id-5\" class=\"sk-top-container\"><div class=\"sk-text-repr-fallback\"><pre>GridSearchCV(cv=10,\n",
       "             estimator=Pipeline(steps=[(&#x27;columntransformer&#x27;,\n",
       "                                        ColumnTransformer(transformers=[(&#x27;num_pipe&#x27;,\n",
       "                                                                         Pipeline(steps=[(&#x27;simpleimputer&#x27;,\n",
       "                                                                                          SimpleImputer()),\n",
       "                                                                                         (&#x27;minmaxscaler&#x27;,\n",
       "                                                                                          MinMaxScaler())]),\n",
       "                                                                         [&#x27;LotArea&#x27;,\n",
       "                                                                          &#x27;LotFrontage&#x27;,\n",
       "                                                                          &#x27;TotalBsmtSF&#x27;,\n",
       "                                                                          &#x27;BedroomAbvGr&#x27;,\n",
       "                                                                          &#x27;Fireplaces&#x27;,\n",
       "                                                                          &#x27;PoolArea&#x27;,\n",
       "                                                                          &#x27;GarageCars&#x27;,\n",
       "                                                                          &#x27;WoodDeckSF&#x27;,\n",
       "                                                                          &#x27;ScreenPorch&#x27;]),\n",
       "                                                                        (&#x27;cat_pipe_onehot&#x27;,\n",
       "                                                                         Pipeline(steps=[(...\n",
       "                         &#x27;columntransformer__cat_pipe_ordinal__simpleimputer__strategy&#x27;: [&#x27;most_frequent&#x27;,\n",
       "                                                                                          &#x27;constant&#x27;],\n",
       "                         &#x27;columntransformer__num_pipe__minmaxscaler__clip&#x27;: [True,\n",
       "                                                                             False],\n",
       "                         &#x27;columntransformer__num_pipe__simpleimputer__strategy&#x27;: [&#x27;mean&#x27;,\n",
       "                                                                                  &#x27;median&#x27;,\n",
       "                                                                                  &#x27;most_frequent&#x27;],\n",
       "                         &#x27;decisiontreeclassifier__criterion&#x27;: [&#x27;gini&#x27;,\n",
       "                                                               &#x27;entropy&#x27;],\n",
       "                         &#x27;decisiontreeclassifier__max_depth&#x27;: range(2, 8),\n",
       "                         &#x27;decisiontreeclassifier__min_samples_leaf&#x27;: range(8, 12)},\n",
       "             verbose=1)</pre><b>In a Jupyter environment, please rerun this cell to show the HTML representation or trust the notebook. <br />On GitHub, the HTML representation is unable to render, please try loading this page with nbviewer.org.</b></div><div class=\"sk-container\" hidden><div class=\"sk-item sk-dashed-wrapped\"><div class=\"sk-label-container\"><div class=\"sk-label sk-toggleable\"><input class=\"sk-toggleable__control sk-hidden--visually\" id=\"sk-estimator-id-52\" type=\"checkbox\" ><label for=\"sk-estimator-id-52\" class=\"sk-toggleable__label sk-toggleable__label-arrow\">GridSearchCV</label><div class=\"sk-toggleable__content\"><pre>GridSearchCV(cv=10,\n",
       "             estimator=Pipeline(steps=[(&#x27;columntransformer&#x27;,\n",
       "                                        ColumnTransformer(transformers=[(&#x27;num_pipe&#x27;,\n",
       "                                                                         Pipeline(steps=[(&#x27;simpleimputer&#x27;,\n",
       "                                                                                          SimpleImputer()),\n",
       "                                                                                         (&#x27;minmaxscaler&#x27;,\n",
       "                                                                                          MinMaxScaler())]),\n",
       "                                                                         [&#x27;LotArea&#x27;,\n",
       "                                                                          &#x27;LotFrontage&#x27;,\n",
       "                                                                          &#x27;TotalBsmtSF&#x27;,\n",
       "                                                                          &#x27;BedroomAbvGr&#x27;,\n",
       "                                                                          &#x27;Fireplaces&#x27;,\n",
       "                                                                          &#x27;PoolArea&#x27;,\n",
       "                                                                          &#x27;GarageCars&#x27;,\n",
       "                                                                          &#x27;WoodDeckSF&#x27;,\n",
       "                                                                          &#x27;ScreenPorch&#x27;]),\n",
       "                                                                        (&#x27;cat_pipe_onehot&#x27;,\n",
       "                                                                         Pipeline(steps=[(...\n",
       "                         &#x27;columntransformer__cat_pipe_ordinal__simpleimputer__strategy&#x27;: [&#x27;most_frequent&#x27;,\n",
       "                                                                                          &#x27;constant&#x27;],\n",
       "                         &#x27;columntransformer__num_pipe__minmaxscaler__clip&#x27;: [True,\n",
       "                                                                             False],\n",
       "                         &#x27;columntransformer__num_pipe__simpleimputer__strategy&#x27;: [&#x27;mean&#x27;,\n",
       "                                                                                  &#x27;median&#x27;,\n",
       "                                                                                  &#x27;most_frequent&#x27;],\n",
       "                         &#x27;decisiontreeclassifier__criterion&#x27;: [&#x27;gini&#x27;,\n",
       "                                                               &#x27;entropy&#x27;],\n",
       "                         &#x27;decisiontreeclassifier__max_depth&#x27;: range(2, 8),\n",
       "                         &#x27;decisiontreeclassifier__min_samples_leaf&#x27;: range(8, 12)},\n",
       "             verbose=1)</pre></div></div></div><div class=\"sk-parallel\"><div class=\"sk-parallel-item\"><div class=\"sk-item\"><div class=\"sk-label-container\"><div class=\"sk-label sk-toggleable\"><input class=\"sk-toggleable__control sk-hidden--visually\" id=\"sk-estimator-id-53\" type=\"checkbox\" ><label for=\"sk-estimator-id-53\" class=\"sk-toggleable__label sk-toggleable__label-arrow\">estimator: Pipeline</label><div class=\"sk-toggleable__content\"><pre>Pipeline(steps=[(&#x27;columntransformer&#x27;,\n",
       "                 ColumnTransformer(transformers=[(&#x27;num_pipe&#x27;,\n",
       "                                                  Pipeline(steps=[(&#x27;simpleimputer&#x27;,\n",
       "                                                                   SimpleImputer()),\n",
       "                                                                  (&#x27;minmaxscaler&#x27;,\n",
       "                                                                   MinMaxScaler())]),\n",
       "                                                  [&#x27;LotArea&#x27;, &#x27;LotFrontage&#x27;,\n",
       "                                                   &#x27;TotalBsmtSF&#x27;,\n",
       "                                                   &#x27;BedroomAbvGr&#x27;, &#x27;Fireplaces&#x27;,\n",
       "                                                   &#x27;PoolArea&#x27;, &#x27;GarageCars&#x27;,\n",
       "                                                   &#x27;WoodDeckSF&#x27;,\n",
       "                                                   &#x27;ScreenPorch&#x27;]),\n",
       "                                                 (&#x27;cat_pipe_onehot&#x27;,\n",
       "                                                  Pipeline(steps=[(&#x27;simpleimputer&#x27;,\n",
       "                                                                   SimpleImputer...\n",
       "                                                                                              [&#x27;NA&#x27;,\n",
       "                                                                                               &#x27;Unf&#x27;,\n",
       "                                                                                               &#x27;LwQ&#x27;,\n",
       "                                                                                               &#x27;Rec&#x27;,\n",
       "                                                                                               &#x27;BLQ&#x27;,\n",
       "                                                                                               &#x27;ALQ&#x27;,\n",
       "                                                                                               &#x27;GLQ&#x27;],\n",
       "                                                                                              [&#x27;Other&#x27;,\n",
       "                                                                                               &#x27;Po&#x27;,\n",
       "                                                                                               &#x27;Fa&#x27;,\n",
       "                                                                                               &#x27;TA&#x27;,\n",
       "                                                                                               &#x27;Gd&#x27;,\n",
       "                                                                                               &#x27;Ex&#x27;],\n",
       "                                                                                              [&#x27;NA&#x27;,\n",
       "                                                                                               &#x27;Other&#x27;,\n",
       "                                                                                               &#x27;Po&#x27;,\n",
       "                                                                                               &#x27;Fa&#x27;,\n",
       "                                                                                               &#x27;TA&#x27;,\n",
       "                                                                                               &#x27;Gd&#x27;,\n",
       "                                                                                               &#x27;Ex&#x27;]],\n",
       "                                                                                  handle_unknown=&#x27;use_encoded_value&#x27;,\n",
       "                                                                                  unknown_value=-1))]),\n",
       "                                                  [&#x27;ExterQual&#x27;, &#x27;ExterCond&#x27;,\n",
       "                                                   &#x27;BsmtQual&#x27;, &#x27;BsmtCond&#x27;,\n",
       "                                                   &#x27;BsmtExposure&#x27;,\n",
       "                                                   &#x27;BsmtFinType1&#x27;,\n",
       "                                                   &#x27;KitchenQual&#x27;,\n",
       "                                                   &#x27;FireplaceQu&#x27;])])),\n",
       "                (&#x27;decisiontreeclassifier&#x27;,\n",
       "                 DecisionTreeClassifier(random_state=42))])</pre></div></div></div><div class=\"sk-serial\"><div class=\"sk-item\"><div class=\"sk-serial\"><div class=\"sk-item sk-dashed-wrapped\"><div class=\"sk-label-container\"><div class=\"sk-label sk-toggleable\"><input class=\"sk-toggleable__control sk-hidden--visually\" id=\"sk-estimator-id-54\" type=\"checkbox\" ><label for=\"sk-estimator-id-54\" class=\"sk-toggleable__label sk-toggleable__label-arrow\">columntransformer: ColumnTransformer</label><div class=\"sk-toggleable__content\"><pre>ColumnTransformer(transformers=[(&#x27;num_pipe&#x27;,\n",
       "                                 Pipeline(steps=[(&#x27;simpleimputer&#x27;,\n",
       "                                                  SimpleImputer()),\n",
       "                                                 (&#x27;minmaxscaler&#x27;,\n",
       "                                                  MinMaxScaler())]),\n",
       "                                 [&#x27;LotArea&#x27;, &#x27;LotFrontage&#x27;, &#x27;TotalBsmtSF&#x27;,\n",
       "                                  &#x27;BedroomAbvGr&#x27;, &#x27;Fireplaces&#x27;, &#x27;PoolArea&#x27;,\n",
       "                                  &#x27;GarageCars&#x27;, &#x27;WoodDeckSF&#x27;, &#x27;ScreenPorch&#x27;]),\n",
       "                                (&#x27;cat_pipe_onehot&#x27;,\n",
       "                                 Pipeline(steps=[(&#x27;simpleimputer&#x27;,\n",
       "                                                  SimpleImputer()),\n",
       "                                                 (&#x27;onehotencoder&#x27;,\n",
       "                                                  OneHotEncoder(ha...\n",
       "                                                                             [&#x27;NA&#x27;,\n",
       "                                                                              &#x27;Other&#x27;,\n",
       "                                                                              &#x27;Po&#x27;,\n",
       "                                                                              &#x27;Fa&#x27;,\n",
       "                                                                              &#x27;TA&#x27;,\n",
       "                                                                              &#x27;Gd&#x27;,\n",
       "                                                                              &#x27;Ex&#x27;],\n",
       "                                                                             [&#x27;NA&#x27;,\n",
       "                                                                              &#x27;No&#x27;,\n",
       "                                                                              &#x27;Mn&#x27;,\n",
       "                                                                              &#x27;Av&#x27;,\n",
       "                                                                              &#x27;Gd&#x27;],\n",
       "                                                                             [&#x27;NA&#x27;,\n",
       "                                                                              &#x27;Unf&#x27;,\n",
       "                                                                              &#x27;LwQ&#x27;,\n",
       "                                                                              &#x27;Rec&#x27;,\n",
       "                                                                              &#x27;BLQ&#x27;,\n",
       "                                                                              &#x27;ALQ&#x27;,\n",
       "                                                                              &#x27;GLQ&#x27;],\n",
       "                                                                             [&#x27;Other&#x27;,\n",
       "                                                                              &#x27;Po&#x27;,\n",
       "                                                                              &#x27;Fa&#x27;,\n",
       "                                                                              &#x27;TA&#x27;,\n",
       "                                                                              &#x27;Gd&#x27;,\n",
       "                                                                              &#x27;Ex&#x27;],\n",
       "                                                                             [&#x27;NA&#x27;,\n",
       "                                                                              &#x27;Other&#x27;,\n",
       "                                                                              &#x27;Po&#x27;,\n",
       "                                                                              &#x27;Fa&#x27;,\n",
       "                                                                              &#x27;TA&#x27;,\n",
       "                                                                              &#x27;Gd&#x27;,\n",
       "                                                                              &#x27;Ex&#x27;]],\n",
       "                                                                 handle_unknown=&#x27;use_encoded_value&#x27;,\n",
       "                                                                 unknown_value=-1))]),\n",
       "                                 [&#x27;ExterQual&#x27;, &#x27;ExterCond&#x27;, &#x27;BsmtQual&#x27;,\n",
       "                                  &#x27;BsmtCond&#x27;, &#x27;BsmtExposure&#x27;, &#x27;BsmtFinType1&#x27;,\n",
       "                                  &#x27;KitchenQual&#x27;, &#x27;FireplaceQu&#x27;])])</pre></div></div></div><div class=\"sk-parallel\"><div class=\"sk-parallel-item\"><div class=\"sk-item\"><div class=\"sk-label-container\"><div class=\"sk-label sk-toggleable\"><input class=\"sk-toggleable__control sk-hidden--visually\" id=\"sk-estimator-id-55\" type=\"checkbox\" ><label for=\"sk-estimator-id-55\" class=\"sk-toggleable__label sk-toggleable__label-arrow\">num_pipe</label><div class=\"sk-toggleable__content\"><pre>[&#x27;LotArea&#x27;, &#x27;LotFrontage&#x27;, &#x27;TotalBsmtSF&#x27;, &#x27;BedroomAbvGr&#x27;, &#x27;Fireplaces&#x27;, &#x27;PoolArea&#x27;, &#x27;GarageCars&#x27;, &#x27;WoodDeckSF&#x27;, &#x27;ScreenPorch&#x27;]</pre></div></div></div><div class=\"sk-serial\"><div class=\"sk-item\"><div class=\"sk-serial\"><div class=\"sk-item\"><div class=\"sk-estimator sk-toggleable\"><input class=\"sk-toggleable__control sk-hidden--visually\" id=\"sk-estimator-id-56\" type=\"checkbox\" ><label for=\"sk-estimator-id-56\" class=\"sk-toggleable__label sk-toggleable__label-arrow\">SimpleImputer</label><div class=\"sk-toggleable__content\"><pre>SimpleImputer()</pre></div></div></div><div class=\"sk-item\"><div class=\"sk-estimator sk-toggleable\"><input class=\"sk-toggleable__control sk-hidden--visually\" id=\"sk-estimator-id-57\" type=\"checkbox\" ><label for=\"sk-estimator-id-57\" class=\"sk-toggleable__label sk-toggleable__label-arrow\">MinMaxScaler</label><div class=\"sk-toggleable__content\"><pre>MinMaxScaler()</pre></div></div></div></div></div></div></div></div><div class=\"sk-parallel-item\"><div class=\"sk-item\"><div class=\"sk-label-container\"><div class=\"sk-label sk-toggleable\"><input class=\"sk-toggleable__control sk-hidden--visually\" id=\"sk-estimator-id-58\" type=\"checkbox\" ><label for=\"sk-estimator-id-58\" class=\"sk-toggleable__label sk-toggleable__label-arrow\">cat_pipe_onehot</label><div class=\"sk-toggleable__content\"><pre>[&#x27;Heating&#x27;, &#x27;Foundation&#x27;, &#x27;CentralAir&#x27;, &#x27;MSZoning&#x27;, &#x27;Street&#x27;, &#x27;Condition1&#x27;]</pre></div></div></div><div class=\"sk-serial\"><div class=\"sk-item\"><div class=\"sk-serial\"><div class=\"sk-item\"><div class=\"sk-estimator sk-toggleable\"><input class=\"sk-toggleable__control sk-hidden--visually\" id=\"sk-estimator-id-59\" type=\"checkbox\" ><label for=\"sk-estimator-id-59\" class=\"sk-toggleable__label sk-toggleable__label-arrow\">SimpleImputer</label><div class=\"sk-toggleable__content\"><pre>SimpleImputer()</pre></div></div></div><div class=\"sk-item\"><div class=\"sk-estimator sk-toggleable\"><input class=\"sk-toggleable__control sk-hidden--visually\" id=\"sk-estimator-id-60\" type=\"checkbox\" ><label for=\"sk-estimator-id-60\" class=\"sk-toggleable__label sk-toggleable__label-arrow\">OneHotEncoder</label><div class=\"sk-toggleable__content\"><pre>OneHotEncoder(handle_unknown=&#x27;ignore&#x27;)</pre></div></div></div></div></div></div></div></div><div class=\"sk-parallel-item\"><div class=\"sk-item\"><div class=\"sk-label-container\"><div class=\"sk-label sk-toggleable\"><input class=\"sk-toggleable__control sk-hidden--visually\" id=\"sk-estimator-id-61\" type=\"checkbox\" ><label for=\"sk-estimator-id-61\" class=\"sk-toggleable__label sk-toggleable__label-arrow\">cat_pipe_ordinal</label><div class=\"sk-toggleable__content\"><pre>[&#x27;ExterQual&#x27;, &#x27;ExterCond&#x27;, &#x27;BsmtQual&#x27;, &#x27;BsmtCond&#x27;, &#x27;BsmtExposure&#x27;, &#x27;BsmtFinType1&#x27;, &#x27;KitchenQual&#x27;, &#x27;FireplaceQu&#x27;]</pre></div></div></div><div class=\"sk-serial\"><div class=\"sk-item\"><div class=\"sk-serial\"><div class=\"sk-item\"><div class=\"sk-estimator sk-toggleable\"><input class=\"sk-toggleable__control sk-hidden--visually\" id=\"sk-estimator-id-62\" type=\"checkbox\" ><label for=\"sk-estimator-id-62\" class=\"sk-toggleable__label sk-toggleable__label-arrow\">SimpleImputer</label><div class=\"sk-toggleable__content\"><pre>SimpleImputer()</pre></div></div></div><div class=\"sk-item\"><div class=\"sk-estimator sk-toggleable\"><input class=\"sk-toggleable__control sk-hidden--visually\" id=\"sk-estimator-id-63\" type=\"checkbox\" ><label for=\"sk-estimator-id-63\" class=\"sk-toggleable__label sk-toggleable__label-arrow\">OrdinalEncoder</label><div class=\"sk-toggleable__content\"><pre>OrdinalEncoder(categories=[[&#x27;Other&#x27;, &#x27;Po&#x27;, &#x27;Fa&#x27;, &#x27;TA&#x27;, &#x27;Gd&#x27;, &#x27;Ex&#x27;],\n",
       "                           [&#x27;Other&#x27;, &#x27;Po&#x27;, &#x27;Fa&#x27;, &#x27;TA&#x27;, &#x27;Gd&#x27;, &#x27;Ex&#x27;],\n",
       "                           [&#x27;NA&#x27;, &#x27;Other&#x27;, &#x27;Po&#x27;, &#x27;Fa&#x27;, &#x27;TA&#x27;, &#x27;Gd&#x27;, &#x27;Ex&#x27;],\n",
       "                           [&#x27;NA&#x27;, &#x27;Other&#x27;, &#x27;Po&#x27;, &#x27;Fa&#x27;, &#x27;TA&#x27;, &#x27;Gd&#x27;, &#x27;Ex&#x27;],\n",
       "                           [&#x27;NA&#x27;, &#x27;No&#x27;, &#x27;Mn&#x27;, &#x27;Av&#x27;, &#x27;Gd&#x27;],\n",
       "                           [&#x27;NA&#x27;, &#x27;Unf&#x27;, &#x27;LwQ&#x27;, &#x27;Rec&#x27;, &#x27;BLQ&#x27;, &#x27;ALQ&#x27;, &#x27;GLQ&#x27;],\n",
       "                           [&#x27;Other&#x27;, &#x27;Po&#x27;, &#x27;Fa&#x27;, &#x27;TA&#x27;, &#x27;Gd&#x27;, &#x27;Ex&#x27;],\n",
       "                           [&#x27;NA&#x27;, &#x27;Other&#x27;, &#x27;Po&#x27;, &#x27;Fa&#x27;, &#x27;TA&#x27;, &#x27;Gd&#x27;, &#x27;Ex&#x27;]],\n",
       "               handle_unknown=&#x27;use_encoded_value&#x27;, unknown_value=-1)</pre></div></div></div></div></div></div></div></div></div></div><div class=\"sk-item\"><div class=\"sk-estimator sk-toggleable\"><input class=\"sk-toggleable__control sk-hidden--visually\" id=\"sk-estimator-id-64\" type=\"checkbox\" ><label for=\"sk-estimator-id-64\" class=\"sk-toggleable__label sk-toggleable__label-arrow\">DecisionTreeClassifier</label><div class=\"sk-toggleable__content\"><pre>DecisionTreeClassifier(random_state=42)</pre></div></div></div></div></div></div></div></div></div></div></div></div>"
      ],
      "text/plain": [
       "GridSearchCV(cv=10,\n",
       "             estimator=Pipeline(steps=[('columntransformer',\n",
       "                                        ColumnTransformer(transformers=[('num_pipe',\n",
       "                                                                         Pipeline(steps=[('simpleimputer',\n",
       "                                                                                          SimpleImputer()),\n",
       "                                                                                         ('minmaxscaler',\n",
       "                                                                                          MinMaxScaler())]),\n",
       "                                                                         ['LotArea',\n",
       "                                                                          'LotFrontage',\n",
       "                                                                          'TotalBsmtSF',\n",
       "                                                                          'BedroomAbvGr',\n",
       "                                                                          'Fireplaces',\n",
       "                                                                          'PoolArea',\n",
       "                                                                          'GarageCars',\n",
       "                                                                          'WoodDeckSF',\n",
       "                                                                          'ScreenPorch']),\n",
       "                                                                        ('cat_pipe_onehot',\n",
       "                                                                         Pipeline(steps=[(...\n",
       "                         'columntransformer__cat_pipe_ordinal__simpleimputer__strategy': ['most_frequent',\n",
       "                                                                                          'constant'],\n",
       "                         'columntransformer__num_pipe__minmaxscaler__clip': [True,\n",
       "                                                                             False],\n",
       "                         'columntransformer__num_pipe__simpleimputer__strategy': ['mean',\n",
       "                                                                                  'median',\n",
       "                                                                                  'most_frequent'],\n",
       "                         'decisiontreeclassifier__criterion': ['gini',\n",
       "                                                               'entropy'],\n",
       "                         'decisiontreeclassifier__max_depth': range(2, 8),\n",
       "                         'decisiontreeclassifier__min_samples_leaf': range(8, 12)},\n",
       "             verbose=1)"
      ]
     },
     "execution_count": 67,
     "metadata": {},
     "output_type": "execute_result"
    }
   ],
   "source": [
    "search.fit(X_train, y_train)"
   ]
  },
  {
   "cell_type": "code",
   "execution_count": 68,
   "id": "3205445f-3f26-4f76-942e-2ca67c5bed94",
   "metadata": {
    "tags": []
   },
   "outputs": [
    {
     "data": {
      "text/plain": [
       "0.9174108458591217"
      ]
     },
     "execution_count": 68,
     "metadata": {},
     "output_type": "execute_result"
    }
   ],
   "source": [
    "search.best_score_"
   ]
  },
  {
   "cell_type": "code",
   "execution_count": 69,
   "id": "59433f31-5ecb-482c-baa4-021d7a56ed5f",
   "metadata": {
    "tags": []
   },
   "outputs": [
    {
     "data": {
      "text/plain": [
       "0.9277730008598453"
      ]
     },
     "execution_count": 69,
     "metadata": {},
     "output_type": "execute_result"
    }
   ],
   "source": [
    "y_train_pred = search.predict(X_train)\n",
    "\n",
    "accuracy_score(y_train, y_train_pred)"
   ]
  },
  {
   "cell_type": "code",
   "execution_count": 70,
   "id": "3dde0afd-faba-4c19-a728-cfb854ffde7b",
   "metadata": {
    "tags": []
   },
   "outputs": [
    {
     "data": {
      "text/plain": [
       "0.9381443298969072"
      ]
     },
     "execution_count": 70,
     "metadata": {},
     "output_type": "execute_result"
    }
   ],
   "source": [
    "y_test_pred = search.predict(X_test)\n",
    "\n",
    "accuracy_score(y_test, y_test_pred)"
   ]
  },
  {
   "cell_type": "code",
   "execution_count": 71,
   "id": "2e47a01c-7912-49f7-aec6-33b6212f04d1",
   "metadata": {
    "tags": []
   },
   "outputs": [
    {
     "data": {
      "text/plain": [
       "{'columntransformer__cat_pipe_onehot__onehotencoder__drop': 'first',\n",
       " 'columntransformer__cat_pipe_onehot__onehotencoder__sparse_output': True,\n",
       " 'columntransformer__cat_pipe_onehot__simpleimputer__fill_value': 'NA',\n",
       " 'columntransformer__cat_pipe_onehot__simpleimputer__strategy': 'most_frequent',\n",
       " 'columntransformer__cat_pipe_ordinal__simpleimputer__fill_value': 'NA',\n",
       " 'columntransformer__cat_pipe_ordinal__simpleimputer__strategy': 'most_frequent',\n",
       " 'columntransformer__num_pipe__minmaxscaler__clip': True,\n",
       " 'columntransformer__num_pipe__simpleimputer__strategy': 'mean',\n",
       " 'decisiontreeclassifier__criterion': 'entropy',\n",
       " 'decisiontreeclassifier__max_depth': 4,\n",
       " 'decisiontreeclassifier__min_samples_leaf': 9}"
      ]
     },
     "execution_count": 71,
     "metadata": {},
     "output_type": "execute_result"
    }
   ],
   "source": [
    "search.best_params_"
   ]
  },
  {
   "cell_type": "code",
   "execution_count": 72,
   "id": "5c05cd86-8787-410b-b6cc-11ad6ec33009",
   "metadata": {
    "tags": []
   },
   "outputs": [
    {
     "name": "stdout",
     "output_type": "stream",
     "text": [
      "This worked!\n"
     ]
    }
   ],
   "source": [
    "print('This worked!')"
   ]
  }
 ],
 "metadata": {
  "kernelspec": {
   "display_name": "Python 3 (ipykernel)",
   "language": "python",
   "name": "python3"
  },
  "language_info": {
   "codemirror_mode": {
    "name": "ipython",
    "version": 3
   },
   "file_extension": ".py",
   "mimetype": "text/x-python",
   "name": "python",
   "nbconvert_exporter": "python",
   "pygments_lexer": "ipython3",
   "version": "3.11.4"
  }
 },
 "nbformat": 4,
 "nbformat_minor": 5
}
