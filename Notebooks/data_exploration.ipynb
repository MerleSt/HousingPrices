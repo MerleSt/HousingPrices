{
 "cells": [
  {
   "cell_type": "markdown",
   "id": "023ad07b-27fb-4047-9afa-75b29af0f853",
   "metadata": {},
   "source": [
    "# Importing Data"
   ]
  },
  {
   "cell_type": "code",
   "execution_count": 15,
   "id": "54f5ee60-eae6-4055-9790-f3b5e018e5cb",
   "metadata": {
    "tags": []
   },
   "outputs": [],
   "source": [
    "import pandas as pd\n",
    "import numpy as np\n",
    "from sklearn.impute import SimpleImputer\n",
    "from sklearn.metrics import accuracy_score\n",
    "import seaborn as sns\n",
    "import matplotlib.pyplot as plt\n",
    "from sklearn.model_selection import train_test_split"
   ]
  },
  {
   "cell_type": "code",
   "execution_count": 26,
   "id": "725c4b91-c693-4de5-9539-843103acfb9f",
   "metadata": {
    "tags": []
   },
   "outputs": [],
   "source": [
    "houses = pd.read_csv('/Users/merlesteffen/Documents/GitHub/HousingPrices/Data/housing-classification-iter-0-2.csv')"
   ]
  },
  {
   "cell_type": "code",
   "execution_count": 20,
   "id": "4c2ab95a-7781-4f1d-9879-8f3b57c62de7",
   "metadata": {
    "tags": []
   },
   "outputs": [
    {
     "data": {
      "text/plain": [
       "LotArea           0\n",
       "LotFrontage     259\n",
       "TotalBsmtSF       0\n",
       "BedroomAbvGr      0\n",
       "Fireplaces        0\n",
       "PoolArea          0\n",
       "GarageCars        0\n",
       "WoodDeckSF        0\n",
       "ScreenPorch       0\n",
       "Expensive         0\n",
       "dtype: int64"
      ]
     },
     "execution_count": 20,
     "metadata": {},
     "output_type": "execute_result"
    }
   ],
   "source": [
    "houses.isna().sum()"
   ]
  },
  {
   "cell_type": "code",
   "execution_count": 21,
   "id": "d2409515-fbca-4807-b20d-5b639f08c7b1",
   "metadata": {
    "tags": []
   },
   "outputs": [
    {
     "data": {
      "text/html": [
       "<div>\n",
       "<style scoped>\n",
       "    .dataframe tbody tr th:only-of-type {\n",
       "        vertical-align: middle;\n",
       "    }\n",
       "\n",
       "    .dataframe tbody tr th {\n",
       "        vertical-align: top;\n",
       "    }\n",
       "\n",
       "    .dataframe thead th {\n",
       "        text-align: right;\n",
       "    }\n",
       "</style>\n",
       "<table border=\"1\" class=\"dataframe\">\n",
       "  <thead>\n",
       "    <tr style=\"text-align: right;\">\n",
       "      <th></th>\n",
       "      <th>LotArea</th>\n",
       "      <th>LotFrontage</th>\n",
       "      <th>TotalBsmtSF</th>\n",
       "      <th>BedroomAbvGr</th>\n",
       "      <th>Fireplaces</th>\n",
       "      <th>PoolArea</th>\n",
       "      <th>GarageCars</th>\n",
       "      <th>WoodDeckSF</th>\n",
       "      <th>ScreenPorch</th>\n",
       "      <th>Expensive</th>\n",
       "    </tr>\n",
       "  </thead>\n",
       "  <tbody>\n",
       "    <tr>\n",
       "      <th>count</th>\n",
       "      <td>1460.00</td>\n",
       "      <td>1201.00</td>\n",
       "      <td>1460.00</td>\n",
       "      <td>1460.00</td>\n",
       "      <td>1460.00</td>\n",
       "      <td>1460.00</td>\n",
       "      <td>1460.00</td>\n",
       "      <td>1460.00</td>\n",
       "      <td>1460.00</td>\n",
       "      <td>1460.00</td>\n",
       "    </tr>\n",
       "    <tr>\n",
       "      <th>mean</th>\n",
       "      <td>10516.83</td>\n",
       "      <td>70.05</td>\n",
       "      <td>1057.43</td>\n",
       "      <td>2.87</td>\n",
       "      <td>0.61</td>\n",
       "      <td>2.76</td>\n",
       "      <td>1.77</td>\n",
       "      <td>94.24</td>\n",
       "      <td>15.06</td>\n",
       "      <td>0.15</td>\n",
       "    </tr>\n",
       "    <tr>\n",
       "      <th>std</th>\n",
       "      <td>9981.26</td>\n",
       "      <td>24.28</td>\n",
       "      <td>438.71</td>\n",
       "      <td>0.82</td>\n",
       "      <td>0.64</td>\n",
       "      <td>40.18</td>\n",
       "      <td>0.75</td>\n",
       "      <td>125.34</td>\n",
       "      <td>55.76</td>\n",
       "      <td>0.36</td>\n",
       "    </tr>\n",
       "    <tr>\n",
       "      <th>min</th>\n",
       "      <td>1300.00</td>\n",
       "      <td>21.00</td>\n",
       "      <td>0.00</td>\n",
       "      <td>0.00</td>\n",
       "      <td>0.00</td>\n",
       "      <td>0.00</td>\n",
       "      <td>0.00</td>\n",
       "      <td>0.00</td>\n",
       "      <td>0.00</td>\n",
       "      <td>0.00</td>\n",
       "    </tr>\n",
       "    <tr>\n",
       "      <th>25%</th>\n",
       "      <td>7553.50</td>\n",
       "      <td>59.00</td>\n",
       "      <td>795.75</td>\n",
       "      <td>2.00</td>\n",
       "      <td>0.00</td>\n",
       "      <td>0.00</td>\n",
       "      <td>1.00</td>\n",
       "      <td>0.00</td>\n",
       "      <td>0.00</td>\n",
       "      <td>0.00</td>\n",
       "    </tr>\n",
       "    <tr>\n",
       "      <th>50%</th>\n",
       "      <td>9478.50</td>\n",
       "      <td>69.00</td>\n",
       "      <td>991.50</td>\n",
       "      <td>3.00</td>\n",
       "      <td>1.00</td>\n",
       "      <td>0.00</td>\n",
       "      <td>2.00</td>\n",
       "      <td>0.00</td>\n",
       "      <td>0.00</td>\n",
       "      <td>0.00</td>\n",
       "    </tr>\n",
       "    <tr>\n",
       "      <th>75%</th>\n",
       "      <td>11601.50</td>\n",
       "      <td>80.00</td>\n",
       "      <td>1298.25</td>\n",
       "      <td>3.00</td>\n",
       "      <td>1.00</td>\n",
       "      <td>0.00</td>\n",
       "      <td>2.00</td>\n",
       "      <td>168.00</td>\n",
       "      <td>0.00</td>\n",
       "      <td>0.00</td>\n",
       "    </tr>\n",
       "    <tr>\n",
       "      <th>max</th>\n",
       "      <td>215245.00</td>\n",
       "      <td>313.00</td>\n",
       "      <td>6110.00</td>\n",
       "      <td>8.00</td>\n",
       "      <td>3.00</td>\n",
       "      <td>738.00</td>\n",
       "      <td>4.00</td>\n",
       "      <td>857.00</td>\n",
       "      <td>480.00</td>\n",
       "      <td>1.00</td>\n",
       "    </tr>\n",
       "  </tbody>\n",
       "</table>\n",
       "</div>"
      ],
      "text/plain": [
       "         LotArea  LotFrontage  TotalBsmtSF  BedroomAbvGr  Fireplaces  \\\n",
       "count    1460.00      1201.00      1460.00       1460.00     1460.00   \n",
       "mean    10516.83        70.05      1057.43          2.87        0.61   \n",
       "std      9981.26        24.28       438.71          0.82        0.64   \n",
       "min      1300.00        21.00         0.00          0.00        0.00   \n",
       "25%      7553.50        59.00       795.75          2.00        0.00   \n",
       "50%      9478.50        69.00       991.50          3.00        1.00   \n",
       "75%     11601.50        80.00      1298.25          3.00        1.00   \n",
       "max    215245.00       313.00      6110.00          8.00        3.00   \n",
       "\n",
       "       PoolArea  GarageCars  WoodDeckSF  ScreenPorch  Expensive  \n",
       "count   1460.00     1460.00     1460.00      1460.00    1460.00  \n",
       "mean       2.76        1.77       94.24        15.06       0.15  \n",
       "std       40.18        0.75      125.34        55.76       0.36  \n",
       "min        0.00        0.00        0.00         0.00       0.00  \n",
       "25%        0.00        1.00        0.00         0.00       0.00  \n",
       "50%        0.00        2.00        0.00         0.00       0.00  \n",
       "75%        0.00        2.00      168.00         0.00       0.00  \n",
       "max      738.00        4.00      857.00       480.00       1.00  "
      ]
     },
     "execution_count": 21,
     "metadata": {},
     "output_type": "execute_result"
    }
   ],
   "source": [
    "houses.describe().round(2)"
   ]
  },
  {
   "cell_type": "code",
   "execution_count": 22,
   "id": "84a79c40-d98e-4bbb-a57a-c8aa3ae43f60",
   "metadata": {
    "tags": []
   },
   "outputs": [
    {
     "data": {
      "text/html": [
       "<div>\n",
       "<style scoped>\n",
       "    .dataframe tbody tr th:only-of-type {\n",
       "        vertical-align: middle;\n",
       "    }\n",
       "\n",
       "    .dataframe tbody tr th {\n",
       "        vertical-align: top;\n",
       "    }\n",
       "\n",
       "    .dataframe thead th {\n",
       "        text-align: right;\n",
       "    }\n",
       "</style>\n",
       "<table border=\"1\" class=\"dataframe\">\n",
       "  <thead>\n",
       "    <tr style=\"text-align: right;\">\n",
       "      <th></th>\n",
       "      <th>LotArea</th>\n",
       "      <th>LotFrontage</th>\n",
       "      <th>TotalBsmtSF</th>\n",
       "      <th>BedroomAbvGr</th>\n",
       "      <th>Fireplaces</th>\n",
       "      <th>PoolArea</th>\n",
       "      <th>GarageCars</th>\n",
       "      <th>WoodDeckSF</th>\n",
       "      <th>ScreenPorch</th>\n",
       "      <th>Expensive</th>\n",
       "    </tr>\n",
       "  </thead>\n",
       "  <tbody>\n",
       "    <tr>\n",
       "      <th>635</th>\n",
       "      <td>10896</td>\n",
       "      <td>60.0</td>\n",
       "      <td>1440</td>\n",
       "      <td>8</td>\n",
       "      <td>0</td>\n",
       "      <td>0</td>\n",
       "      <td>0</td>\n",
       "      <td>0</td>\n",
       "      <td>0</td>\n",
       "      <td>0</td>\n",
       "    </tr>\n",
       "    <tr>\n",
       "      <th>570</th>\n",
       "      <td>13101</td>\n",
       "      <td>74.0</td>\n",
       "      <td>1728</td>\n",
       "      <td>6</td>\n",
       "      <td>0</td>\n",
       "      <td>0</td>\n",
       "      <td>2</td>\n",
       "      <td>0</td>\n",
       "      <td>0</td>\n",
       "      <td>0</td>\n",
       "    </tr>\n",
       "    <tr>\n",
       "      <th>1350</th>\n",
       "      <td>11643</td>\n",
       "      <td>91.0</td>\n",
       "      <td>1248</td>\n",
       "      <td>6</td>\n",
       "      <td>0</td>\n",
       "      <td>0</td>\n",
       "      <td>4</td>\n",
       "      <td>0</td>\n",
       "      <td>0</td>\n",
       "      <td>0</td>\n",
       "    </tr>\n",
       "    <tr>\n",
       "      <th>291</th>\n",
       "      <td>5687</td>\n",
       "      <td>55.0</td>\n",
       "      <td>780</td>\n",
       "      <td>6</td>\n",
       "      <td>0</td>\n",
       "      <td>0</td>\n",
       "      <td>0</td>\n",
       "      <td>0</td>\n",
       "      <td>0</td>\n",
       "      <td>0</td>\n",
       "    </tr>\n",
       "    <tr>\n",
       "      <th>144</th>\n",
       "      <td>9100</td>\n",
       "      <td>70.0</td>\n",
       "      <td>1728</td>\n",
       "      <td>6</td>\n",
       "      <td>0</td>\n",
       "      <td>0</td>\n",
       "      <td>2</td>\n",
       "      <td>0</td>\n",
       "      <td>0</td>\n",
       "      <td>0</td>\n",
       "    </tr>\n",
       "    <tr>\n",
       "      <th>...</th>\n",
       "      <td>...</td>\n",
       "      <td>...</td>\n",
       "      <td>...</td>\n",
       "      <td>...</td>\n",
       "      <td>...</td>\n",
       "      <td>...</td>\n",
       "      <td>...</td>\n",
       "      <td>...</td>\n",
       "      <td>...</td>\n",
       "      <td>...</td>\n",
       "    </tr>\n",
       "    <tr>\n",
       "      <th>1163</th>\n",
       "      <td>12900</td>\n",
       "      <td>60.0</td>\n",
       "      <td>1198</td>\n",
       "      <td>0</td>\n",
       "      <td>0</td>\n",
       "      <td>0</td>\n",
       "      <td>2</td>\n",
       "      <td>120</td>\n",
       "      <td>0</td>\n",
       "      <td>0</td>\n",
       "    </tr>\n",
       "    <tr>\n",
       "      <th>53</th>\n",
       "      <td>50271</td>\n",
       "      <td>68.0</td>\n",
       "      <td>1842</td>\n",
       "      <td>0</td>\n",
       "      <td>1</td>\n",
       "      <td>0</td>\n",
       "      <td>3</td>\n",
       "      <td>857</td>\n",
       "      <td>0</td>\n",
       "      <td>1</td>\n",
       "    </tr>\n",
       "    <tr>\n",
       "      <th>189</th>\n",
       "      <td>4923</td>\n",
       "      <td>41.0</td>\n",
       "      <td>1593</td>\n",
       "      <td>0</td>\n",
       "      <td>1</td>\n",
       "      <td>0</td>\n",
       "      <td>2</td>\n",
       "      <td>0</td>\n",
       "      <td>224</td>\n",
       "      <td>1</td>\n",
       "    </tr>\n",
       "    <tr>\n",
       "      <th>634</th>\n",
       "      <td>6979</td>\n",
       "      <td>64.0</td>\n",
       "      <td>1056</td>\n",
       "      <td>0</td>\n",
       "      <td>0</td>\n",
       "      <td>0</td>\n",
       "      <td>2</td>\n",
       "      <td>264</td>\n",
       "      <td>0</td>\n",
       "      <td>0</td>\n",
       "    </tr>\n",
       "    <tr>\n",
       "      <th>1270</th>\n",
       "      <td>23595</td>\n",
       "      <td>NaN</td>\n",
       "      <td>1332</td>\n",
       "      <td>0</td>\n",
       "      <td>1</td>\n",
       "      <td>0</td>\n",
       "      <td>2</td>\n",
       "      <td>268</td>\n",
       "      <td>0</td>\n",
       "      <td>1</td>\n",
       "    </tr>\n",
       "  </tbody>\n",
       "</table>\n",
       "<p>1460 rows × 10 columns</p>\n",
       "</div>"
      ],
      "text/plain": [
       "      LotArea  LotFrontage  TotalBsmtSF  BedroomAbvGr  Fireplaces  PoolArea  \\\n",
       "635     10896         60.0         1440             8           0         0   \n",
       "570     13101         74.0         1728             6           0         0   \n",
       "1350    11643         91.0         1248             6           0         0   \n",
       "291      5687         55.0          780             6           0         0   \n",
       "144      9100         70.0         1728             6           0         0   \n",
       "...       ...          ...          ...           ...         ...       ...   \n",
       "1163    12900         60.0         1198             0           0         0   \n",
       "53      50271         68.0         1842             0           1         0   \n",
       "189      4923         41.0         1593             0           1         0   \n",
       "634      6979         64.0         1056             0           0         0   \n",
       "1270    23595          NaN         1332             0           1         0   \n",
       "\n",
       "      GarageCars  WoodDeckSF  ScreenPorch  Expensive  \n",
       "635            0           0            0          0  \n",
       "570            2           0            0          0  \n",
       "1350           4           0            0          0  \n",
       "291            0           0            0          0  \n",
       "144            2           0            0          0  \n",
       "...          ...         ...          ...        ...  \n",
       "1163           2         120            0          0  \n",
       "53             3         857            0          1  \n",
       "189            2           0          224          1  \n",
       "634            2         264            0          0  \n",
       "1270           2         268            0          1  \n",
       "\n",
       "[1460 rows x 10 columns]"
      ]
     },
     "execution_count": 22,
     "metadata": {},
     "output_type": "execute_result"
    }
   ],
   "source": [
    "houses.sort_values(by='BedroomAbvGr', ascending=False)"
   ]
  },
  {
   "cell_type": "markdown",
   "id": "2e9faf67-6e77-4fa4-a075-591d7a3aa917",
   "metadata": {
    "tags": []
   },
   "source": [
    "# Train-Test Split"
   ]
  },
  {
   "cell_type": "code",
   "execution_count": 47,
   "id": "4ae2175d-40ab-4837-9dda-9c1dc5b2edd9",
   "metadata": {
    "tags": []
   },
   "outputs": [],
   "source": [
    "X = houses.drop(columns='Expensive')\n",
    "y = houses['Expensive']\n",
    "X_train, X_test, y_train, y_test = train_test_split(X, y, test_size=0.2, random_state=31416)"
   ]
  },
  {
   "cell_type": "markdown",
   "id": "8e0a64d9-f10e-4a57-9b8a-7442b0ea3344",
   "metadata": {},
   "source": [
    "# Handle Missing Values"
   ]
  },
  {
   "cell_type": "code",
   "execution_count": 48,
   "id": "34c2a23c-45b9-49a6-825e-7b277272e7dc",
   "metadata": {
    "tags": []
   },
   "outputs": [],
   "source": [
    "columns = X_train.columns\n",
    "imp = SimpleImputer(missing_values=np.nan, strategy='median')\n",
    "imp.fit(X_train)\n",
    "X_train_imputed = imp.transform(X_train)\n",
    "X_test_imputed = imp.transform(X_test)\n",
    "X_train = pd.DataFrame(X_train_imputed, columns=columns )\n",
    "X_test = pd.DataFrame(X_test_imputed, columns=columns)"
   ]
  },
  {
   "cell_type": "code",
   "execution_count": 49,
   "id": "0211dfb6-690f-42c5-b9be-700b69d754a3",
   "metadata": {
    "tags": []
   },
   "outputs": [
    {
     "data": {
      "text/plain": [
       "LotArea         0\n",
       "LotFrontage     0\n",
       "TotalBsmtSF     0\n",
       "BedroomAbvGr    0\n",
       "Fireplaces      0\n",
       "PoolArea        0\n",
       "GarageCars      0\n",
       "WoodDeckSF      0\n",
       "ScreenPorch     0\n",
       "dtype: int64"
      ]
     },
     "execution_count": 49,
     "metadata": {},
     "output_type": "execute_result"
    }
   ],
   "source": [
    "X_train.isna().sum()"
   ]
  },
  {
   "cell_type": "code",
   "execution_count": 50,
   "id": "4e714a03-9c30-495f-a858-a4df4f6ac9b5",
   "metadata": {
    "tags": []
   },
   "outputs": [
    {
     "data": {
      "text/plain": [
       "LotArea         0\n",
       "LotFrontage     0\n",
       "TotalBsmtSF     0\n",
       "BedroomAbvGr    0\n",
       "Fireplaces      0\n",
       "PoolArea        0\n",
       "GarageCars      0\n",
       "WoodDeckSF      0\n",
       "ScreenPorch     0\n",
       "dtype: int64"
      ]
     },
     "execution_count": 50,
     "metadata": {},
     "output_type": "execute_result"
    }
   ],
   "source": [
    "X_test.isna().sum()"
   ]
  },
  {
   "cell_type": "markdown",
   "id": "447404b1-828f-4a59-a350-b3a8c45afbf3",
   "metadata": {},
   "source": [
    "# Z_Score Model"
   ]
  },
  {
   "cell_type": "markdown",
   "id": "d0cde4e8-fcec-4118-a189-118ed4724a60",
   "metadata": {},
   "source": [
    "We assume that the more above average a house is across these features, the more likely it is to be expensive."
   ]
  },
  {
   "cell_type": "code",
   "execution_count": 51,
   "id": "46053086-2112-4f2d-9a7b-a33af0da13cd",
   "metadata": {
    "tags": []
   },
   "outputs": [],
   "source": [
    "def above_average(row):\n",
    "    z_score = (row-X_train.mean())/X_train.std()\n",
    "    if z_score.sum() > 5:\n",
    "        return 1\n",
    "    else:\n",
    "        return 0\n",
    "    \n",
    "predicted_expensive_train = X_train.apply(above_average, axis = 1) \n",
    "# The magic is in the .apply() method. When you use DataFrame.apply(func, axis=1), it applies the function func to each row of the DataFrame.\n",
    "#For each row, the function computes the Z-Score. The axis=1 argument tells apply to operate row-wise. \n",
    "#If you used axis=0, it would operate column-wise.\n",
    "predicted_expensive_test = X_test.apply(above_average, axis = 1)\n",
    "#The apply() method creates a new pandas Series that collects each return value from the function for each row it processes. \n",
    "#This is then stored in the variable you assign the result to, such as predicted_expensive_train or predicted_expensive_test."
   ]
  },
  {
   "cell_type": "code",
   "execution_count": 52,
   "id": "d1558ff9-6481-4052-8ff5-a4965f66d5a2",
   "metadata": {
    "tags": []
   },
   "outputs": [
    {
     "name": "stdout",
     "output_type": "stream",
     "text": [
      "Training Accuracy: 0.8707191780821918\n",
      "Testing Accuracy: 0.910958904109589\n"
     ]
    }
   ],
   "source": [
    "print(\"Training Accuracy:\", accuracy_score(y_train, predicted_expensive_train))\n",
    "print(\"Testing Accuracy:\", accuracy_score(y_test, predicted_expensive_test))"
   ]
  },
  {
   "cell_type": "code",
   "execution_count": 53,
   "id": "1d26dd87-bb1b-46b6-a3e0-66add92d68d4",
   "metadata": {
    "tags": []
   },
   "outputs": [
    {
     "data": {
      "image/png": "[encoded data removed]",
      "text/plain": [
       "<Figure size 1000x600 with 1 Axes>"
      ]
     },
     "metadata": {},
     "output_type": "display_data"
    }
   ],
   "source": [
    "# Intuitive classifier function based on a threshold\n",
    "def intuitive_classifier(row, threshold):\n",
    "    z_scores = (row - X_train.mean()) / X_train.std()\n",
    "    if z_scores.sum() > threshold:\n",
    "        return 1\n",
    "    return 0\n",
    "\n",
    "# Compute accuracies for different thresholds\n",
    "thresholds = list(range(0, 9))  # Thresholds from 0 to 8\n",
    "train_accuracies = []\n",
    "test_accuracies = []\n",
    "\n",
    "for threshold in thresholds:\n",
    "    y_pred_train = X_train.apply(intuitive_classifier, axis=1, threshold=threshold)\n",
    "    y_pred_test = X_test.apply(intuitive_classifier, axis=1, threshold=threshold)\n",
    "    train_accuracies.append(accuracy_score(y_train, y_pred_train))\n",
    "    test_accuracies.append(accuracy_score(y_test, y_pred_test))\n",
    "\n",
    "# Plot the results\n",
    "plt.figure(figsize=(10,6))\n",
    "plt.plot(thresholds, train_accuracies, marker='o', label='Train Accuracy')\n",
    "plt.plot(thresholds, test_accuracies, marker='o', linestyle='--', label='Test Accuracy')\n",
    "plt.xlabel('Threshold')\n",
    "plt.ylabel('Accuracy')\n",
    "plt.title('Accuracy for Different Z-Score Sum Thresholds')\n",
    "plt.legend()\n",
    "plt.grid(True)\n",
    "plt.show()\n"
   ]
  },
  {
   "cell_type": "markdown",
   "id": "d84cdca5-925d-4f81-b153-d06865ce4bee",
   "metadata": {},
   "source": [
    "# Coding Rules - Model"
   ]
  },
  {
   "cell_type": "code",
   "execution_count": null,
   "id": "1bbb639d-36dc-4b41-a746-ebf8fef4a2fc",
   "metadata": {
    "tags": []
   },
   "outputs": [],
   "source": [
    "for column in houses.columns:\n",
    "    plt.figure(figsize=(6, 6))\n",
    "    sns.scatterplot(data=houses, x=column, y=\"Expensive\", edgecolor=None, alpha=0.7)\n",
    "\n",
    "    plt.title(f\"Scatter plot of {column} and  Expensive\")\n",
    "\n",
    "    plt.show()"
   ]
  },
  {
   "cell_type": "code",
   "execution_count": 55,
   "id": "67893887-6d47-4b4f-a561-529c5fdd480e",
   "metadata": {
    "tags": []
   },
   "outputs": [
    {
     "data": {
      "text/plain": [
       "0    0\n",
       "1    1\n",
       "2    1\n",
       "3    1\n",
       "4    0\n",
       "dtype: int64"
      ]
     },
     "execution_count": 55,
     "metadata": {},
     "output_type": "execute_result"
    }
   ],
   "source": [
    "# Initialize intuitive_model with 0 for all indices in X_train\n",
    "intuitive_model = pd.Series(0, index=X_train.index)\n",
    "\n",
    "# Rule 1: Houses with GarageCars >= 3 are considered expensive\n",
    "intuitive_model.loc[X_train['GarageCars'] >= 3] = 1\n",
    "\n",
    "# Rule 2: Houses with LotArea > 12,000 sqft are considered expensive\n",
    "intuitive_model.loc[X_train['LotArea'] > 12000] = 1\n",
    "\n",
    "# Rule 3: Houses with TotalBsmtSF > 1,300 sqft are considered expensive\n",
    "intuitive_model.loc[X_train['TotalBsmtSF'] > 1300] = 1\n",
    "\n",
    "# Rule 4: Houses with Fireplaces >= 2 or PoolArea > (mean + std) are considered expensive\n",
    "intuitive_model.loc[(X_train['Fireplaces'] >= 2) | (X_train['PoolArea'] > (2.76 + 40.18))] = 1\n",
    "\n",
    "# Rule 5: Houses with BedroomAbvGr between 4 and 6 are considered expensive\n",
    "intuitive_model.loc[(X_train['BedroomAbvGr'] >= 4) & (X_train['BedroomAbvGr'] <= 6)] = 1\n",
    "\n",
    "# Rule 6: Houses with a ScreenPorch are considered expensive\n",
    "intuitive_model.loc[X_train['ScreenPorch'] > 0] = 1\n",
    "\n",
    "# Rule 7: Houses with WoodDeckSF > 200 sqft are considered expensive\n",
    "intuitive_model.loc[X_train['WoodDeckSF'] > 200] = 1\n",
    "intuitive_model.head()"
   ]
  },
  {
   "cell_type": "code",
   "execution_count": 56,
   "id": "f5206591-1db5-49e5-8cc8-3745fbf2cb2f",
   "metadata": {
    "tags": []
   },
   "outputs": [
    {
     "data": {
      "text/plain": [
       "0.5667808219178082"
      ]
     },
     "execution_count": 56,
     "metadata": {},
     "output_type": "execute_result"
    }
   ],
   "source": [
    "# Accuracy\n",
    "train_accuracy = accuracy_score(y_train, intuitive_model)\n",
    "train_accuracy"
   ]
  },
  {
   "cell_type": "code",
   "execution_count": 57,
   "id": "10365f5e-8df2-41f5-9829-c00dd7be86e2",
   "metadata": {
    "tags": []
   },
   "outputs": [
    {
     "name": "stdout",
     "output_type": "stream",
     "text": [
      "This worked!\n"
     ]
    }
   ],
   "source": [
    "print('This worked!')"
   ]
  }
 ],
 "metadata": {
  "kernelspec": {
   "display_name": "Python 3 (ipykernel)",
   "language": "python",
   "name": "python3"
  },
  "language_info": {
   "codemirror_mode": {
    "name": "ipython",
    "version": 3
   },
   "file_extension": ".py",
   "mimetype": "text/x-python",
   "name": "python",
   "nbconvert_exporter": "python",
   "pygments_lexer": "ipython3",
   "version": "3.11.4"
  }
 },
 "nbformat": 4,
 "nbformat_minor": 5
}
