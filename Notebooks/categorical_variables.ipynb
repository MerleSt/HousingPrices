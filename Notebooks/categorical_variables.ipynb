{
 "cells": [
  {
   "cell_type": "code",
   "execution_count": 27,
   "id": "796cc19d-65c3-441b-80dd-1172d3dbf634",
   "metadata": {
    "tags": []
   },
   "outputs": [],
   "source": [
    "import pandas as pd\n",
    "from sklearn.pipeline import Pipeline\n",
    "from sklearn.pipeline import make_pipeline\n",
    "from sklearn.model_selection import GridSearchCV\n",
    "from sklearn.preprocessing import StandardScaler\n",
    "from sklearn.preprocessing import MinMaxScaler\n",
    "from sklearn.tree import plot_tree\n",
    "import numpy as np\n",
    "from sklearn.impute import SimpleImputer\n",
    "from sklearn.metrics import accuracy_score\n",
    "import seaborn as sns\n",
    "import matplotlib.pyplot as plt\n",
    "from sklearn.model_selection import train_test_split\n",
    "from sklearn.tree import DecisionTreeClassifier\n",
    "from sklearn.preprocessing import OneHotEncoder\n",
    "from sklearn.compose import ColumnTransformer"
   ]
  },
  {
   "cell_type": "code",
   "execution_count": 2,
   "id": "f013c1f0-1f66-4ded-b9f5-e08d19ffe15d",
   "metadata": {
    "tags": []
   },
   "outputs": [],
   "source": [
    "houses = pd.read_csv('/Users/merlesteffen/Documents/GitHub/HousingPrices/Data/iter-3/housing-classification-iter3.csv')"
   ]
  },
  {
   "cell_type": "code",
   "execution_count": 14,
   "id": "029790e5-03e2-46cd-9bae-2d904d5f05eb",
   "metadata": {
    "tags": []
   },
   "outputs": [
    {
     "data": {
      "text/plain": [
       "(1460, 16)"
      ]
     },
     "execution_count": 14,
     "metadata": {},
     "output_type": "execute_result"
    }
   ],
   "source": [
    "houses.shape"
   ]
  },
  {
   "cell_type": "markdown",
   "id": "752dbb05-840d-4eec-b038-ad2e943dc785",
   "metadata": {},
   "source": [
    "# Split Data"
   ]
  },
  {
   "cell_type": "code",
   "execution_count": 16,
   "id": "02846f56-fb37-4a11-88a9-abeacbf608ff",
   "metadata": {
    "tags": []
   },
   "outputs": [],
   "source": [
    "X = houses.drop(columns='Expensive')\n",
    "y = houses['Expensive']\n",
    "X_train, X_test, y_train, y_test = train_test_split(X, y, test_size=0.2, random_state=42)"
   ]
  },
  {
   "cell_type": "markdown",
   "id": "4990470a-18a2-4c36-be19-f4baed139e65",
   "metadata": {},
   "source": [
    "# One Hot Encoding"
   ]
  },
  {
   "cell_type": "code",
   "execution_count": 28,
   "id": "e0d39178-0a39-40f3-a0ea-0a4bba2f1838",
   "metadata": {
    "tags": []
   },
   "outputs": [],
   "source": [
    "categoric_features = list(X_train.select_dtypes(include=[\"object\"]))\n",
    "numeric_features = list(X_train.select_dtypes(exclude=[\"object\"]))"
   ]
  },
  {
   "cell_type": "markdown",
   "id": "2bd27fbf-b4b0-48b2-b5c1-d95ad28d91a5",
   "metadata": {},
   "source": [
    "Create Pipelines which are then applied to different subsets of the original dataframe."
   ]
  },
  {
   "cell_type": "code",
   "execution_count": 35,
   "id": "e099cdd8-12e3-41ad-ba5a-ab8341feb9c4",
   "metadata": {
    "tags": []
   },
   "outputs": [],
   "source": [
    "scaler = MinMaxScaler()"
   ]
  },
  {
   "cell_type": "code",
   "execution_count": 36,
   "id": "2b6362ae-7f88-4c26-82f9-b25be3a5adc5",
   "metadata": {
    "tags": []
   },
   "outputs": [],
   "source": [
    "numeric_pipe = make_pipeline(\n",
    "    SimpleImputer(strategy=\"median\"),\n",
    "    scaler\n",
    ")\n",
    "\n",
    "categoric_pipe = make_pipeline(\n",
    "    SimpleImputer(strategy=\"constant\", fill_value=\"N_A\"),\n",
    "    OneHotEncoder(handle_unknown='ignore') # handle_unknown ensures that if a category not seen during fit appears during transform, it's ignored.\n",
    ")"
   ]
  },
  {
   "cell_type": "markdown",
   "id": "dd386294-7798-4fbe-88b7-afd27d06f1d5",
   "metadata": {},
   "source": [
    "- The ColumnTransformer takes in a list of transformers, where each transformer is applied to a specified subset of the columns in the input data.\n",
    "- Each transformer is defined by a name, a transformer object (like a pipeline), and the columns it should be applied to."
   ]
  },
  {
   "cell_type": "code",
   "execution_count": 37,
   "id": "dc9fbd02-af50-44eb-b1c7-2d3bebdbf4a5",
   "metadata": {
    "tags": []
   },
   "outputs": [],
   "source": [
    "preprocessor = ColumnTransformer(\n",
    "    transformers=[\n",
    "        (\"num_pipe\", numeric_pipe, numeric_features),\n",
    "        (\"cat_pipe\", categoric_pipe, categoric_features),\n",
    "    ]\n",
    ")"
   ]
  },
  {
   "cell_type": "markdown",
   "id": "e504e96c-2b6e-4dc8-bd7b-809b688b7fd0",
   "metadata": {},
   "source": [
    "# Choose a Model"
   ]
  },
  {
   "cell_type": "code",
   "execution_count": 38,
   "id": "8e751954-a1cf-4d94-800c-85bfd1e2c06c",
   "metadata": {
    "tags": []
   },
   "outputs": [],
   "source": [
    "dtree = DecisionTreeClassifier(random_state = 42)"
   ]
  },
  {
   "cell_type": "markdown",
   "id": "9cff9445-8c44-448c-9c3a-6c0d92483ca4",
   "metadata": {},
   "source": [
    "# Build Final Pipeline"
   ]
  },
  {
   "cell_type": "code",
   "execution_count": 39,
   "id": "eb0dcb9c-7019-4664-a1b4-e93677cfd7d8",
   "metadata": {
    "tags": []
   },
   "outputs": [
    {
     "data": {
      "text/html": [
       "<style>#sk-container-id-2 {color: black;}#sk-container-id-2 pre{padding: 0;}#sk-container-id-2 div.sk-toggleable {background-color: white;}#sk-container-id-2 label.sk-toggleable__label {cursor: pointer;display: block;width: 100%;margin-bottom: 0;padding: 0.3em;box-sizing: border-box;text-align: center;}#sk-container-id-2 label.sk-toggleable__label-arrow:before {content: \"▸\";float: left;margin-right: 0.25em;color: #696969;}#sk-container-id-2 label.sk-toggleable__label-arrow:hover:before {color: black;}#sk-container-id-2 div.sk-estimator:hover label.sk-toggleable__label-arrow:before {color: black;}#sk-container-id-2 div.sk-toggleable__content {max-height: 0;max-width: 0;overflow: hidden;text-align: left;background-color: #f0f8ff;}#sk-container-id-2 div.sk-toggleable__content pre {margin: 0.2em;color: black;border-radius: 0.25em;background-color: #f0f8ff;}#sk-container-id-2 input.sk-toggleable__control:checked~div.sk-toggleable__content {max-height: 200px;max-width: 100%;overflow: auto;}#sk-container-id-2 input.sk-toggleable__control:checked~label.sk-toggleable__label-arrow:before {content: \"▾\";}#sk-container-id-2 div.sk-estimator input.sk-toggleable__control:checked~label.sk-toggleable__label {background-color: #d4ebff;}#sk-container-id-2 div.sk-label input.sk-toggleable__control:checked~label.sk-toggleable__label {background-color: #d4ebff;}#sk-container-id-2 input.sk-hidden--visually {border: 0;clip: rect(1px 1px 1px 1px);clip: rect(1px, 1px, 1px, 1px);height: 1px;margin: -1px;overflow: hidden;padding: 0;position: absolute;width: 1px;}#sk-container-id-2 div.sk-estimator {font-family: monospace;background-color: #f0f8ff;border: 1px dotted black;border-radius: 0.25em;box-sizing: border-box;margin-bottom: 0.5em;}#sk-container-id-2 div.sk-estimator:hover {background-color: #d4ebff;}#sk-container-id-2 div.sk-parallel-item::after {content: \"\";width: 100%;border-bottom: 1px solid gray;flex-grow: 1;}#sk-container-id-2 div.sk-label:hover label.sk-toggleable__label {background-color: #d4ebff;}#sk-container-id-2 div.sk-serial::before {content: \"\";position: absolute;border-left: 1px solid gray;box-sizing: border-box;top: 0;bottom: 0;left: 50%;z-index: 0;}#sk-container-id-2 div.sk-serial {display: flex;flex-direction: column;align-items: center;background-color: white;padding-right: 0.2em;padding-left: 0.2em;position: relative;}#sk-container-id-2 div.sk-item {position: relative;z-index: 1;}#sk-container-id-2 div.sk-parallel {display: flex;align-items: stretch;justify-content: center;background-color: white;position: relative;}#sk-container-id-2 div.sk-item::before, #sk-container-id-2 div.sk-parallel-item::before {content: \"\";position: absolute;border-left: 1px solid gray;box-sizing: border-box;top: 0;bottom: 0;left: 50%;z-index: -1;}#sk-container-id-2 div.sk-parallel-item {display: flex;flex-direction: column;z-index: 1;position: relative;background-color: white;}#sk-container-id-2 div.sk-parallel-item:first-child::after {align-self: flex-end;width: 50%;}#sk-container-id-2 div.sk-parallel-item:last-child::after {align-self: flex-start;width: 50%;}#sk-container-id-2 div.sk-parallel-item:only-child::after {width: 0;}#sk-container-id-2 div.sk-dashed-wrapped {border: 1px dashed gray;margin: 0 0.4em 0.5em 0.4em;box-sizing: border-box;padding-bottom: 0.4em;background-color: white;}#sk-container-id-2 div.sk-label label {font-family: monospace;font-weight: bold;display: inline-block;line-height: 1.2em;}#sk-container-id-2 div.sk-label-container {text-align: center;}#sk-container-id-2 div.sk-container {/* jupyter's `normalize.less` sets `[hidden] { display: none; }` but bootstrap.min.css set `[hidden] { display: none !important; }` so we also need the `!important` here to be able to override the default hidden behavior on the sphinx rendered scikit-learn.org. See: https://github.com/scikit-learn/scikit-learn/issues/21755 */display: inline-block !important;position: relative;}#sk-container-id-2 div.sk-text-repr-fallback {display: none;}</style><div id=\"sk-container-id-2\" class=\"sk-top-container\"><div class=\"sk-text-repr-fallback\"><pre>Pipeline(steps=[(&#x27;columntransformer&#x27;,\n",
       "                 ColumnTransformer(transformers=[(&#x27;num_pipe&#x27;,\n",
       "                                                  Pipeline(steps=[(&#x27;simpleimputer&#x27;,\n",
       "                                                                   SimpleImputer(strategy=&#x27;median&#x27;)),\n",
       "                                                                  (&#x27;minmaxscaler&#x27;,\n",
       "                                                                   MinMaxScaler())]),\n",
       "                                                  [&#x27;LotArea&#x27;, &#x27;LotFrontage&#x27;,\n",
       "                                                   &#x27;TotalBsmtSF&#x27;,\n",
       "                                                   &#x27;BedroomAbvGr&#x27;, &#x27;Fireplaces&#x27;,\n",
       "                                                   &#x27;PoolArea&#x27;, &#x27;GarageCars&#x27;,\n",
       "                                                   &#x27;WoodDeckSF&#x27;,\n",
       "                                                   &#x27;ScreenPorch&#x27;]),\n",
       "                                                 (&#x27;cat_pipe&#x27;,\n",
       "                                                  Pipeline(steps=[(&#x27;simpleimputer&#x27;,\n",
       "                                                                   SimpleImputer(fill_value=&#x27;N_A&#x27;,\n",
       "                                                                                 strategy=&#x27;constant&#x27;)),\n",
       "                                                                  (&#x27;onehotencoder&#x27;,\n",
       "                                                                   OneHotEncoder(handle_unknown=&#x27;ignore&#x27;))]),\n",
       "                                                  [&#x27;MSZoning&#x27;, &#x27;Condition1&#x27;,\n",
       "                                                   &#x27;Heating&#x27;, &#x27;Street&#x27;,\n",
       "                                                   &#x27;CentralAir&#x27;,\n",
       "                                                   &#x27;Foundation&#x27;])])),\n",
       "                (&#x27;decisiontreeclassifier&#x27;,\n",
       "                 DecisionTreeClassifier(random_state=42))])</pre><b>In a Jupyter environment, please rerun this cell to show the HTML representation or trust the notebook. <br />On GitHub, the HTML representation is unable to render, please try loading this page with nbviewer.org.</b></div><div class=\"sk-container\" hidden><div class=\"sk-item sk-dashed-wrapped\"><div class=\"sk-label-container\"><div class=\"sk-label sk-toggleable\"><input class=\"sk-toggleable__control sk-hidden--visually\" id=\"sk-estimator-id-9\" type=\"checkbox\" ><label for=\"sk-estimator-id-9\" class=\"sk-toggleable__label sk-toggleable__label-arrow\">Pipeline</label><div class=\"sk-toggleable__content\"><pre>Pipeline(steps=[(&#x27;columntransformer&#x27;,\n",
       "                 ColumnTransformer(transformers=[(&#x27;num_pipe&#x27;,\n",
       "                                                  Pipeline(steps=[(&#x27;simpleimputer&#x27;,\n",
       "                                                                   SimpleImputer(strategy=&#x27;median&#x27;)),\n",
       "                                                                  (&#x27;minmaxscaler&#x27;,\n",
       "                                                                   MinMaxScaler())]),\n",
       "                                                  [&#x27;LotArea&#x27;, &#x27;LotFrontage&#x27;,\n",
       "                                                   &#x27;TotalBsmtSF&#x27;,\n",
       "                                                   &#x27;BedroomAbvGr&#x27;, &#x27;Fireplaces&#x27;,\n",
       "                                                   &#x27;PoolArea&#x27;, &#x27;GarageCars&#x27;,\n",
       "                                                   &#x27;WoodDeckSF&#x27;,\n",
       "                                                   &#x27;ScreenPorch&#x27;]),\n",
       "                                                 (&#x27;cat_pipe&#x27;,\n",
       "                                                  Pipeline(steps=[(&#x27;simpleimputer&#x27;,\n",
       "                                                                   SimpleImputer(fill_value=&#x27;N_A&#x27;,\n",
       "                                                                                 strategy=&#x27;constant&#x27;)),\n",
       "                                                                  (&#x27;onehotencoder&#x27;,\n",
       "                                                                   OneHotEncoder(handle_unknown=&#x27;ignore&#x27;))]),\n",
       "                                                  [&#x27;MSZoning&#x27;, &#x27;Condition1&#x27;,\n",
       "                                                   &#x27;Heating&#x27;, &#x27;Street&#x27;,\n",
       "                                                   &#x27;CentralAir&#x27;,\n",
       "                                                   &#x27;Foundation&#x27;])])),\n",
       "                (&#x27;decisiontreeclassifier&#x27;,\n",
       "                 DecisionTreeClassifier(random_state=42))])</pre></div></div></div><div class=\"sk-serial\"><div class=\"sk-item sk-dashed-wrapped\"><div class=\"sk-label-container\"><div class=\"sk-label sk-toggleable\"><input class=\"sk-toggleable__control sk-hidden--visually\" id=\"sk-estimator-id-10\" type=\"checkbox\" ><label for=\"sk-estimator-id-10\" class=\"sk-toggleable__label sk-toggleable__label-arrow\">columntransformer: ColumnTransformer</label><div class=\"sk-toggleable__content\"><pre>ColumnTransformer(transformers=[(&#x27;num_pipe&#x27;,\n",
       "                                 Pipeline(steps=[(&#x27;simpleimputer&#x27;,\n",
       "                                                  SimpleImputer(strategy=&#x27;median&#x27;)),\n",
       "                                                 (&#x27;minmaxscaler&#x27;,\n",
       "                                                  MinMaxScaler())]),\n",
       "                                 [&#x27;LotArea&#x27;, &#x27;LotFrontage&#x27;, &#x27;TotalBsmtSF&#x27;,\n",
       "                                  &#x27;BedroomAbvGr&#x27;, &#x27;Fireplaces&#x27;, &#x27;PoolArea&#x27;,\n",
       "                                  &#x27;GarageCars&#x27;, &#x27;WoodDeckSF&#x27;, &#x27;ScreenPorch&#x27;]),\n",
       "                                (&#x27;cat_pipe&#x27;,\n",
       "                                 Pipeline(steps=[(&#x27;simpleimputer&#x27;,\n",
       "                                                  SimpleImputer(fill_value=&#x27;N_A&#x27;,\n",
       "                                                                strategy=&#x27;constant&#x27;)),\n",
       "                                                 (&#x27;onehotencoder&#x27;,\n",
       "                                                  OneHotEncoder(handle_unknown=&#x27;ignore&#x27;))]),\n",
       "                                 [&#x27;MSZoning&#x27;, &#x27;Condition1&#x27;, &#x27;Heating&#x27;, &#x27;Street&#x27;,\n",
       "                                  &#x27;CentralAir&#x27;, &#x27;Foundation&#x27;])])</pre></div></div></div><div class=\"sk-parallel\"><div class=\"sk-parallel-item\"><div class=\"sk-item\"><div class=\"sk-label-container\"><div class=\"sk-label sk-toggleable\"><input class=\"sk-toggleable__control sk-hidden--visually\" id=\"sk-estimator-id-11\" type=\"checkbox\" ><label for=\"sk-estimator-id-11\" class=\"sk-toggleable__label sk-toggleable__label-arrow\">num_pipe</label><div class=\"sk-toggleable__content\"><pre>[&#x27;LotArea&#x27;, &#x27;LotFrontage&#x27;, &#x27;TotalBsmtSF&#x27;, &#x27;BedroomAbvGr&#x27;, &#x27;Fireplaces&#x27;, &#x27;PoolArea&#x27;, &#x27;GarageCars&#x27;, &#x27;WoodDeckSF&#x27;, &#x27;ScreenPorch&#x27;]</pre></div></div></div><div class=\"sk-serial\"><div class=\"sk-item\"><div class=\"sk-serial\"><div class=\"sk-item\"><div class=\"sk-estimator sk-toggleable\"><input class=\"sk-toggleable__control sk-hidden--visually\" id=\"sk-estimator-id-12\" type=\"checkbox\" ><label for=\"sk-estimator-id-12\" class=\"sk-toggleable__label sk-toggleable__label-arrow\">SimpleImputer</label><div class=\"sk-toggleable__content\"><pre>SimpleImputer(strategy=&#x27;median&#x27;)</pre></div></div></div><div class=\"sk-item\"><div class=\"sk-estimator sk-toggleable\"><input class=\"sk-toggleable__control sk-hidden--visually\" id=\"sk-estimator-id-13\" type=\"checkbox\" ><label for=\"sk-estimator-id-13\" class=\"sk-toggleable__label sk-toggleable__label-arrow\">MinMaxScaler</label><div class=\"sk-toggleable__content\"><pre>MinMaxScaler()</pre></div></div></div></div></div></div></div></div><div class=\"sk-parallel-item\"><div class=\"sk-item\"><div class=\"sk-label-container\"><div class=\"sk-label sk-toggleable\"><input class=\"sk-toggleable__control sk-hidden--visually\" id=\"sk-estimator-id-14\" type=\"checkbox\" ><label for=\"sk-estimator-id-14\" class=\"sk-toggleable__label sk-toggleable__label-arrow\">cat_pipe</label><div class=\"sk-toggleable__content\"><pre>[&#x27;MSZoning&#x27;, &#x27;Condition1&#x27;, &#x27;Heating&#x27;, &#x27;Street&#x27;, &#x27;CentralAir&#x27;, &#x27;Foundation&#x27;]</pre></div></div></div><div class=\"sk-serial\"><div class=\"sk-item\"><div class=\"sk-serial\"><div class=\"sk-item\"><div class=\"sk-estimator sk-toggleable\"><input class=\"sk-toggleable__control sk-hidden--visually\" id=\"sk-estimator-id-15\" type=\"checkbox\" ><label for=\"sk-estimator-id-15\" class=\"sk-toggleable__label sk-toggleable__label-arrow\">SimpleImputer</label><div class=\"sk-toggleable__content\"><pre>SimpleImputer(fill_value=&#x27;N_A&#x27;, strategy=&#x27;constant&#x27;)</pre></div></div></div><div class=\"sk-item\"><div class=\"sk-estimator sk-toggleable\"><input class=\"sk-toggleable__control sk-hidden--visually\" id=\"sk-estimator-id-16\" type=\"checkbox\" ><label for=\"sk-estimator-id-16\" class=\"sk-toggleable__label sk-toggleable__label-arrow\">OneHotEncoder</label><div class=\"sk-toggleable__content\"><pre>OneHotEncoder(handle_unknown=&#x27;ignore&#x27;)</pre></div></div></div></div></div></div></div></div></div></div><div class=\"sk-item\"><div class=\"sk-estimator sk-toggleable\"><input class=\"sk-toggleable__control sk-hidden--visually\" id=\"sk-estimator-id-17\" type=\"checkbox\" ><label for=\"sk-estimator-id-17\" class=\"sk-toggleable__label sk-toggleable__label-arrow\">DecisionTreeClassifier</label><div class=\"sk-toggleable__content\"><pre>DecisionTreeClassifier(random_state=42)</pre></div></div></div></div></div></div></div>"
      ],
      "text/plain": [
       "Pipeline(steps=[('columntransformer',\n",
       "                 ColumnTransformer(transformers=[('num_pipe',\n",
       "                                                  Pipeline(steps=[('simpleimputer',\n",
       "                                                                   SimpleImputer(strategy='median')),\n",
       "                                                                  ('minmaxscaler',\n",
       "                                                                   MinMaxScaler())]),\n",
       "                                                  ['LotArea', 'LotFrontage',\n",
       "                                                   'TotalBsmtSF',\n",
       "                                                   'BedroomAbvGr', 'Fireplaces',\n",
       "                                                   'PoolArea', 'GarageCars',\n",
       "                                                   'WoodDeckSF',\n",
       "                                                   'ScreenPorch']),\n",
       "                                                 ('cat_pipe',\n",
       "                                                  Pipeline(steps=[('simpleimputer',\n",
       "                                                                   SimpleImputer(fill_value='N_A',\n",
       "                                                                                 strategy='constant')),\n",
       "                                                                  ('onehotencoder',\n",
       "                                                                   OneHotEncoder(handle_unknown='ignore'))]),\n",
       "                                                  ['MSZoning', 'Condition1',\n",
       "                                                   'Heating', 'Street',\n",
       "                                                   'CentralAir',\n",
       "                                                   'Foundation'])])),\n",
       "                ('decisiontreeclassifier',\n",
       "                 DecisionTreeClassifier(random_state=42))])"
      ]
     },
     "execution_count": 39,
     "metadata": {},
     "output_type": "execute_result"
    }
   ],
   "source": [
    "model_pipeline = make_pipeline(preprocessor, dtree)\n",
    "\n",
    "model_pipeline.fit(X_train, y_train)"
   ]
  },
  {
   "cell_type": "code",
   "execution_count": 40,
   "id": "baf324c3-5c3c-4524-8ff0-eaa5deaf092d",
   "metadata": {
    "tags": []
   },
   "outputs": [
    {
     "name": "stdout",
     "output_type": "stream",
     "text": [
      "1.0\n"
     ]
    }
   ],
   "source": [
    "predictions = model_pipeline.predict(X_train)\n",
    "score = accuracy_score(y_train, predictions)\n",
    "print(score)"
   ]
  },
  {
   "cell_type": "code",
   "execution_count": 41,
   "id": "c60ad285-146f-4780-b0bd-a92743f777dc",
   "metadata": {
    "tags": []
   },
   "outputs": [
    {
     "name": "stdout",
     "output_type": "stream",
     "text": [
      "0.9006849315068494\n"
     ]
    }
   ],
   "source": [
    "predictions = model_pipeline.predict(X_test)\n",
    "score = accuracy_score(y_test, predictions)\n",
    "print(score)"
   ]
  },
  {
   "cell_type": "markdown",
   "id": "3cd4fceb-ceea-4af2-9f8f-73accd425816",
   "metadata": {},
   "source": [
    "# Cross Validation"
   ]
  },
  {
   "cell_type": "markdown",
   "id": "95557bf4-74fd-4ac0-8d04-1a16ad410fe9",
   "metadata": {},
   "source": [
    "## Grid Search CV"
   ]
  },
  {
   "cell_type": "code",
   "execution_count": 46,
   "id": "5ba2e8d5-16c8-47e6-b7c3-63ab5c6fcd8f",
   "metadata": {
    "tags": []
   },
   "outputs": [],
   "source": [
    "param_grid = {\n",
    "    \"columntransformer__num_pipe__simpleimputer__strategy\": [\"mean\", \"median\"],\n",
    "    \"columntransformer__num_pipe__minmaxscaler__feature_range\": [(0,1), (0,2)],\n",
    "    \"columntransformer__num_pipe__minmaxscaler__clip\": [True, False],\n",
    "    \"columntransformer__cat_pipe__simpleimputer__strategy\": [\"most_frequent\", \"constant\"],\n",
    "    \"columntransformer__cat_pipe__simpleimputer__fill_value\": [\"N_A\"],  # Only applies when strategy is \"constant\"\n",
    "    \"decisiontreeclassifier__max_depth\": range(2, 14),\n",
    "    \"decisiontreeclassifier__min_samples_leaf\": range(3, 10),\n",
    "    \"decisiontreeclassifier__criterion\": [\"gini\", \"entropy\"]\n",
    "}"
   ]
  },
  {
   "cell_type": "code",
   "execution_count": 47,
   "id": "2b3a319c-578b-4f3f-a3b0-f25aaea98601",
   "metadata": {
    "tags": []
   },
   "outputs": [],
   "source": [
    "search = GridSearchCV(\n",
    "    model_pipeline,\n",
    "    param_grid,\n",
    "    cv=10,\n",
    "    verbose=1\n",
    ")"
   ]
  },
  {
   "cell_type": "code",
   "execution_count": 48,
   "id": "c0776871-ff42-4d34-8373-eb567d97deb2",
   "metadata": {
    "tags": []
   },
   "outputs": [
    {
     "name": "stdout",
     "output_type": "stream",
     "text": [
      "Fitting 10 folds for each of 2688 candidates, totalling 26880 fits\n"
     ]
    },
    {
     "data": {
      "text/html": [
       "<style>#sk-container-id-3 {color: black;}#sk-container-id-3 pre{padding: 0;}#sk-container-id-3 div.sk-toggleable {background-color: white;}#sk-container-id-3 label.sk-toggleable__label {cursor: pointer;display: block;width: 100%;margin-bottom: 0;padding: 0.3em;box-sizing: border-box;text-align: center;}#sk-container-id-3 label.sk-toggleable__label-arrow:before {content: \"▸\";float: left;margin-right: 0.25em;color: #696969;}#sk-container-id-3 label.sk-toggleable__label-arrow:hover:before {color: black;}#sk-container-id-3 div.sk-estimator:hover label.sk-toggleable__label-arrow:before {color: black;}#sk-container-id-3 div.sk-toggleable__content {max-height: 0;max-width: 0;overflow: hidden;text-align: left;background-color: #f0f8ff;}#sk-container-id-3 div.sk-toggleable__content pre {margin: 0.2em;color: black;border-radius: 0.25em;background-color: #f0f8ff;}#sk-container-id-3 input.sk-toggleable__control:checked~div.sk-toggleable__content {max-height: 200px;max-width: 100%;overflow: auto;}#sk-container-id-3 input.sk-toggleable__control:checked~label.sk-toggleable__label-arrow:before {content: \"▾\";}#sk-container-id-3 div.sk-estimator input.sk-toggleable__control:checked~label.sk-toggleable__label {background-color: #d4ebff;}#sk-container-id-3 div.sk-label input.sk-toggleable__control:checked~label.sk-toggleable__label {background-color: #d4ebff;}#sk-container-id-3 input.sk-hidden--visually {border: 0;clip: rect(1px 1px 1px 1px);clip: rect(1px, 1px, 1px, 1px);height: 1px;margin: -1px;overflow: hidden;padding: 0;position: absolute;width: 1px;}#sk-container-id-3 div.sk-estimator {font-family: monospace;background-color: #f0f8ff;border: 1px dotted black;border-radius: 0.25em;box-sizing: border-box;margin-bottom: 0.5em;}#sk-container-id-3 div.sk-estimator:hover {background-color: #d4ebff;}#sk-container-id-3 div.sk-parallel-item::after {content: \"\";width: 100%;border-bottom: 1px solid gray;flex-grow: 1;}#sk-container-id-3 div.sk-label:hover label.sk-toggleable__label {background-color: #d4ebff;}#sk-container-id-3 div.sk-serial::before {content: \"\";position: absolute;border-left: 1px solid gray;box-sizing: border-box;top: 0;bottom: 0;left: 50%;z-index: 0;}#sk-container-id-3 div.sk-serial {display: flex;flex-direction: column;align-items: center;background-color: white;padding-right: 0.2em;padding-left: 0.2em;position: relative;}#sk-container-id-3 div.sk-item {position: relative;z-index: 1;}#sk-container-id-3 div.sk-parallel {display: flex;align-items: stretch;justify-content: center;background-color: white;position: relative;}#sk-container-id-3 div.sk-item::before, #sk-container-id-3 div.sk-parallel-item::before {content: \"\";position: absolute;border-left: 1px solid gray;box-sizing: border-box;top: 0;bottom: 0;left: 50%;z-index: -1;}#sk-container-id-3 div.sk-parallel-item {display: flex;flex-direction: column;z-index: 1;position: relative;background-color: white;}#sk-container-id-3 div.sk-parallel-item:first-child::after {align-self: flex-end;width: 50%;}#sk-container-id-3 div.sk-parallel-item:last-child::after {align-self: flex-start;width: 50%;}#sk-container-id-3 div.sk-parallel-item:only-child::after {width: 0;}#sk-container-id-3 div.sk-dashed-wrapped {border: 1px dashed gray;margin: 0 0.4em 0.5em 0.4em;box-sizing: border-box;padding-bottom: 0.4em;background-color: white;}#sk-container-id-3 div.sk-label label {font-family: monospace;font-weight: bold;display: inline-block;line-height: 1.2em;}#sk-container-id-3 div.sk-label-container {text-align: center;}#sk-container-id-3 div.sk-container {/* jupyter's `normalize.less` sets `[hidden] { display: none; }` but bootstrap.min.css set `[hidden] { display: none !important; }` so we also need the `!important` here to be able to override the default hidden behavior on the sphinx rendered scikit-learn.org. See: https://github.com/scikit-learn/scikit-learn/issues/21755 */display: inline-block !important;position: relative;}#sk-container-id-3 div.sk-text-repr-fallback {display: none;}</style><div id=\"sk-container-id-3\" class=\"sk-top-container\"><div class=\"sk-text-repr-fallback\"><pre>GridSearchCV(cv=10,\n",
       "             estimator=Pipeline(steps=[(&#x27;columntransformer&#x27;,\n",
       "                                        ColumnTransformer(transformers=[(&#x27;num_pipe&#x27;,\n",
       "                                                                         Pipeline(steps=[(&#x27;simpleimputer&#x27;,\n",
       "                                                                                          SimpleImputer(strategy=&#x27;median&#x27;)),\n",
       "                                                                                         (&#x27;minmaxscaler&#x27;,\n",
       "                                                                                          MinMaxScaler())]),\n",
       "                                                                         [&#x27;LotArea&#x27;,\n",
       "                                                                          &#x27;LotFrontage&#x27;,\n",
       "                                                                          &#x27;TotalBsmtSF&#x27;,\n",
       "                                                                          &#x27;BedroomAbvGr&#x27;,\n",
       "                                                                          &#x27;Fireplaces&#x27;,\n",
       "                                                                          &#x27;PoolArea&#x27;,\n",
       "                                                                          &#x27;GarageCars&#x27;,\n",
       "                                                                          &#x27;WoodDeckSF&#x27;,\n",
       "                                                                          &#x27;ScreenPorch&#x27;]),\n",
       "                                                                        (&#x27;cat_pipe&#x27;,\n",
       "                                                                         Pipelin...\n",
       "                         &#x27;columntransformer__num_pipe__minmaxscaler__clip&#x27;: [True,\n",
       "                                                                             False],\n",
       "                         &#x27;columntransformer__num_pipe__minmaxscaler__feature_range&#x27;: [(0,\n",
       "                                                                                       1),\n",
       "                                                                                      (0,\n",
       "                                                                                       2)],\n",
       "                         &#x27;columntransformer__num_pipe__simpleimputer__strategy&#x27;: [&#x27;mean&#x27;,\n",
       "                                                                                  &#x27;median&#x27;],\n",
       "                         &#x27;decisiontreeclassifier__criterion&#x27;: [&#x27;gini&#x27;,\n",
       "                                                               &#x27;entropy&#x27;],\n",
       "                         &#x27;decisiontreeclassifier__max_depth&#x27;: range(2, 14),\n",
       "                         &#x27;decisiontreeclassifier__min_samples_leaf&#x27;: range(3, 10)},\n",
       "             verbose=1)</pre><b>In a Jupyter environment, please rerun this cell to show the HTML representation or trust the notebook. <br />On GitHub, the HTML representation is unable to render, please try loading this page with nbviewer.org.</b></div><div class=\"sk-container\" hidden><div class=\"sk-item sk-dashed-wrapped\"><div class=\"sk-label-container\"><div class=\"sk-label sk-toggleable\"><input class=\"sk-toggleable__control sk-hidden--visually\" id=\"sk-estimator-id-18\" type=\"checkbox\" ><label for=\"sk-estimator-id-18\" class=\"sk-toggleable__label sk-toggleable__label-arrow\">GridSearchCV</label><div class=\"sk-toggleable__content\"><pre>GridSearchCV(cv=10,\n",
       "             estimator=Pipeline(steps=[(&#x27;columntransformer&#x27;,\n",
       "                                        ColumnTransformer(transformers=[(&#x27;num_pipe&#x27;,\n",
       "                                                                         Pipeline(steps=[(&#x27;simpleimputer&#x27;,\n",
       "                                                                                          SimpleImputer(strategy=&#x27;median&#x27;)),\n",
       "                                                                                         (&#x27;minmaxscaler&#x27;,\n",
       "                                                                                          MinMaxScaler())]),\n",
       "                                                                         [&#x27;LotArea&#x27;,\n",
       "                                                                          &#x27;LotFrontage&#x27;,\n",
       "                                                                          &#x27;TotalBsmtSF&#x27;,\n",
       "                                                                          &#x27;BedroomAbvGr&#x27;,\n",
       "                                                                          &#x27;Fireplaces&#x27;,\n",
       "                                                                          &#x27;PoolArea&#x27;,\n",
       "                                                                          &#x27;GarageCars&#x27;,\n",
       "                                                                          &#x27;WoodDeckSF&#x27;,\n",
       "                                                                          &#x27;ScreenPorch&#x27;]),\n",
       "                                                                        (&#x27;cat_pipe&#x27;,\n",
       "                                                                         Pipelin...\n",
       "                         &#x27;columntransformer__num_pipe__minmaxscaler__clip&#x27;: [True,\n",
       "                                                                             False],\n",
       "                         &#x27;columntransformer__num_pipe__minmaxscaler__feature_range&#x27;: [(0,\n",
       "                                                                                       1),\n",
       "                                                                                      (0,\n",
       "                                                                                       2)],\n",
       "                         &#x27;columntransformer__num_pipe__simpleimputer__strategy&#x27;: [&#x27;mean&#x27;,\n",
       "                                                                                  &#x27;median&#x27;],\n",
       "                         &#x27;decisiontreeclassifier__criterion&#x27;: [&#x27;gini&#x27;,\n",
       "                                                               &#x27;entropy&#x27;],\n",
       "                         &#x27;decisiontreeclassifier__max_depth&#x27;: range(2, 14),\n",
       "                         &#x27;decisiontreeclassifier__min_samples_leaf&#x27;: range(3, 10)},\n",
       "             verbose=1)</pre></div></div></div><div class=\"sk-parallel\"><div class=\"sk-parallel-item\"><div class=\"sk-item\"><div class=\"sk-label-container\"><div class=\"sk-label sk-toggleable\"><input class=\"sk-toggleable__control sk-hidden--visually\" id=\"sk-estimator-id-19\" type=\"checkbox\" ><label for=\"sk-estimator-id-19\" class=\"sk-toggleable__label sk-toggleable__label-arrow\">estimator: Pipeline</label><div class=\"sk-toggleable__content\"><pre>Pipeline(steps=[(&#x27;columntransformer&#x27;,\n",
       "                 ColumnTransformer(transformers=[(&#x27;num_pipe&#x27;,\n",
       "                                                  Pipeline(steps=[(&#x27;simpleimputer&#x27;,\n",
       "                                                                   SimpleImputer(strategy=&#x27;median&#x27;)),\n",
       "                                                                  (&#x27;minmaxscaler&#x27;,\n",
       "                                                                   MinMaxScaler())]),\n",
       "                                                  [&#x27;LotArea&#x27;, &#x27;LotFrontage&#x27;,\n",
       "                                                   &#x27;TotalBsmtSF&#x27;,\n",
       "                                                   &#x27;BedroomAbvGr&#x27;, &#x27;Fireplaces&#x27;,\n",
       "                                                   &#x27;PoolArea&#x27;, &#x27;GarageCars&#x27;,\n",
       "                                                   &#x27;WoodDeckSF&#x27;,\n",
       "                                                   &#x27;ScreenPorch&#x27;]),\n",
       "                                                 (&#x27;cat_pipe&#x27;,\n",
       "                                                  Pipeline(steps=[(&#x27;simpleimputer&#x27;,\n",
       "                                                                   SimpleImputer(fill_value=&#x27;N_A&#x27;,\n",
       "                                                                                 strategy=&#x27;constant&#x27;)),\n",
       "                                                                  (&#x27;onehotencoder&#x27;,\n",
       "                                                                   OneHotEncoder(handle_unknown=&#x27;ignore&#x27;))]),\n",
       "                                                  [&#x27;MSZoning&#x27;, &#x27;Condition1&#x27;,\n",
       "                                                   &#x27;Heating&#x27;, &#x27;Street&#x27;,\n",
       "                                                   &#x27;CentralAir&#x27;,\n",
       "                                                   &#x27;Foundation&#x27;])])),\n",
       "                (&#x27;decisiontreeclassifier&#x27;,\n",
       "                 DecisionTreeClassifier(random_state=42))])</pre></div></div></div><div class=\"sk-serial\"><div class=\"sk-item\"><div class=\"sk-serial\"><div class=\"sk-item sk-dashed-wrapped\"><div class=\"sk-label-container\"><div class=\"sk-label sk-toggleable\"><input class=\"sk-toggleable__control sk-hidden--visually\" id=\"sk-estimator-id-20\" type=\"checkbox\" ><label for=\"sk-estimator-id-20\" class=\"sk-toggleable__label sk-toggleable__label-arrow\">columntransformer: ColumnTransformer</label><div class=\"sk-toggleable__content\"><pre>ColumnTransformer(transformers=[(&#x27;num_pipe&#x27;,\n",
       "                                 Pipeline(steps=[(&#x27;simpleimputer&#x27;,\n",
       "                                                  SimpleImputer(strategy=&#x27;median&#x27;)),\n",
       "                                                 (&#x27;minmaxscaler&#x27;,\n",
       "                                                  MinMaxScaler())]),\n",
       "                                 [&#x27;LotArea&#x27;, &#x27;LotFrontage&#x27;, &#x27;TotalBsmtSF&#x27;,\n",
       "                                  &#x27;BedroomAbvGr&#x27;, &#x27;Fireplaces&#x27;, &#x27;PoolArea&#x27;,\n",
       "                                  &#x27;GarageCars&#x27;, &#x27;WoodDeckSF&#x27;, &#x27;ScreenPorch&#x27;]),\n",
       "                                (&#x27;cat_pipe&#x27;,\n",
       "                                 Pipeline(steps=[(&#x27;simpleimputer&#x27;,\n",
       "                                                  SimpleImputer(fill_value=&#x27;N_A&#x27;,\n",
       "                                                                strategy=&#x27;constant&#x27;)),\n",
       "                                                 (&#x27;onehotencoder&#x27;,\n",
       "                                                  OneHotEncoder(handle_unknown=&#x27;ignore&#x27;))]),\n",
       "                                 [&#x27;MSZoning&#x27;, &#x27;Condition1&#x27;, &#x27;Heating&#x27;, &#x27;Street&#x27;,\n",
       "                                  &#x27;CentralAir&#x27;, &#x27;Foundation&#x27;])])</pre></div></div></div><div class=\"sk-parallel\"><div class=\"sk-parallel-item\"><div class=\"sk-item\"><div class=\"sk-label-container\"><div class=\"sk-label sk-toggleable\"><input class=\"sk-toggleable__control sk-hidden--visually\" id=\"sk-estimator-id-21\" type=\"checkbox\" ><label for=\"sk-estimator-id-21\" class=\"sk-toggleable__label sk-toggleable__label-arrow\">num_pipe</label><div class=\"sk-toggleable__content\"><pre>[&#x27;LotArea&#x27;, &#x27;LotFrontage&#x27;, &#x27;TotalBsmtSF&#x27;, &#x27;BedroomAbvGr&#x27;, &#x27;Fireplaces&#x27;, &#x27;PoolArea&#x27;, &#x27;GarageCars&#x27;, &#x27;WoodDeckSF&#x27;, &#x27;ScreenPorch&#x27;]</pre></div></div></div><div class=\"sk-serial\"><div class=\"sk-item\"><div class=\"sk-serial\"><div class=\"sk-item\"><div class=\"sk-estimator sk-toggleable\"><input class=\"sk-toggleable__control sk-hidden--visually\" id=\"sk-estimator-id-22\" type=\"checkbox\" ><label for=\"sk-estimator-id-22\" class=\"sk-toggleable__label sk-toggleable__label-arrow\">SimpleImputer</label><div class=\"sk-toggleable__content\"><pre>SimpleImputer(strategy=&#x27;median&#x27;)</pre></div></div></div><div class=\"sk-item\"><div class=\"sk-estimator sk-toggleable\"><input class=\"sk-toggleable__control sk-hidden--visually\" id=\"sk-estimator-id-23\" type=\"checkbox\" ><label for=\"sk-estimator-id-23\" class=\"sk-toggleable__label sk-toggleable__label-arrow\">MinMaxScaler</label><div class=\"sk-toggleable__content\"><pre>MinMaxScaler()</pre></div></div></div></div></div></div></div></div><div class=\"sk-parallel-item\"><div class=\"sk-item\"><div class=\"sk-label-container\"><div class=\"sk-label sk-toggleable\"><input class=\"sk-toggleable__control sk-hidden--visually\" id=\"sk-estimator-id-24\" type=\"checkbox\" ><label for=\"sk-estimator-id-24\" class=\"sk-toggleable__label sk-toggleable__label-arrow\">cat_pipe</label><div class=\"sk-toggleable__content\"><pre>[&#x27;MSZoning&#x27;, &#x27;Condition1&#x27;, &#x27;Heating&#x27;, &#x27;Street&#x27;, &#x27;CentralAir&#x27;, &#x27;Foundation&#x27;]</pre></div></div></div><div class=\"sk-serial\"><div class=\"sk-item\"><div class=\"sk-serial\"><div class=\"sk-item\"><div class=\"sk-estimator sk-toggleable\"><input class=\"sk-toggleable__control sk-hidden--visually\" id=\"sk-estimator-id-25\" type=\"checkbox\" ><label for=\"sk-estimator-id-25\" class=\"sk-toggleable__label sk-toggleable__label-arrow\">SimpleImputer</label><div class=\"sk-toggleable__content\"><pre>SimpleImputer(fill_value=&#x27;N_A&#x27;, strategy=&#x27;constant&#x27;)</pre></div></div></div><div class=\"sk-item\"><div class=\"sk-estimator sk-toggleable\"><input class=\"sk-toggleable__control sk-hidden--visually\" id=\"sk-estimator-id-26\" type=\"checkbox\" ><label for=\"sk-estimator-id-26\" class=\"sk-toggleable__label sk-toggleable__label-arrow\">OneHotEncoder</label><div class=\"sk-toggleable__content\"><pre>OneHotEncoder(handle_unknown=&#x27;ignore&#x27;)</pre></div></div></div></div></div></div></div></div></div></div><div class=\"sk-item\"><div class=\"sk-estimator sk-toggleable\"><input class=\"sk-toggleable__control sk-hidden--visually\" id=\"sk-estimator-id-27\" type=\"checkbox\" ><label for=\"sk-estimator-id-27\" class=\"sk-toggleable__label sk-toggleable__label-arrow\">DecisionTreeClassifier</label><div class=\"sk-toggleable__content\"><pre>DecisionTreeClassifier(random_state=42)</pre></div></div></div></div></div></div></div></div></div></div></div></div>"
      ],
      "text/plain": [
       "GridSearchCV(cv=10,\n",
       "             estimator=Pipeline(steps=[('columntransformer',\n",
       "                                        ColumnTransformer(transformers=[('num_pipe',\n",
       "                                                                         Pipeline(steps=[('simpleimputer',\n",
       "                                                                                          SimpleImputer(strategy='median')),\n",
       "                                                                                         ('minmaxscaler',\n",
       "                                                                                          MinMaxScaler())]),\n",
       "                                                                         ['LotArea',\n",
       "                                                                          'LotFrontage',\n",
       "                                                                          'TotalBsmtSF',\n",
       "                                                                          'BedroomAbvGr',\n",
       "                                                                          'Fireplaces',\n",
       "                                                                          'PoolArea',\n",
       "                                                                          'GarageCars',\n",
       "                                                                          'WoodDeckSF',\n",
       "                                                                          'ScreenPorch']),\n",
       "                                                                        ('cat_pipe',\n",
       "                                                                         Pipelin...\n",
       "                         'columntransformer__num_pipe__minmaxscaler__clip': [True,\n",
       "                                                                             False],\n",
       "                         'columntransformer__num_pipe__minmaxscaler__feature_range': [(0,\n",
       "                                                                                       1),\n",
       "                                                                                      (0,\n",
       "                                                                                       2)],\n",
       "                         'columntransformer__num_pipe__simpleimputer__strategy': ['mean',\n",
       "                                                                                  'median'],\n",
       "                         'decisiontreeclassifier__criterion': ['gini',\n",
       "                                                               'entropy'],\n",
       "                         'decisiontreeclassifier__max_depth': range(2, 14),\n",
       "                         'decisiontreeclassifier__min_samples_leaf': range(3, 10)},\n",
       "             verbose=1)"
      ]
     },
     "execution_count": 48,
     "metadata": {},
     "output_type": "execute_result"
    }
   ],
   "source": [
    "search.fit(X_train, y_train)"
   ]
  },
  {
   "cell_type": "code",
   "execution_count": 49,
   "id": "0688f0a3-d54d-4862-a7ed-4bca7c5f3265",
   "metadata": {
    "tags": []
   },
   "outputs": [
    {
     "data": {
      "text/plain": [
       "0.9204022988505747"
      ]
     },
     "execution_count": 49,
     "metadata": {},
     "output_type": "execute_result"
    }
   ],
   "source": [
    "search.best_score_"
   ]
  },
  {
   "cell_type": "code",
   "execution_count": 50,
   "id": "672e01dc-0816-48f9-a2d0-7c585150f79f",
   "metadata": {
    "tags": []
   },
   "outputs": [
    {
     "data": {
      "text/plain": [
       "0.9332191780821918"
      ]
     },
     "execution_count": 50,
     "metadata": {},
     "output_type": "execute_result"
    }
   ],
   "source": [
    "y_train_pred = search.predict(X_train)\n",
    "\n",
    "accuracy_score(y_train, y_train_pred)"
   ]
  },
  {
   "cell_type": "code",
   "execution_count": 51,
   "id": "b1b75f19-7816-4a55-a9f9-65ddde05c0ef",
   "metadata": {
    "tags": []
   },
   "outputs": [
    {
     "data": {
      "text/plain": [
       "0.9383561643835616"
      ]
     },
     "execution_count": 51,
     "metadata": {},
     "output_type": "execute_result"
    }
   ],
   "source": [
    "y_test_pred = search.predict(X_test)\n",
    "\n",
    "accuracy_score(y_test, y_test_pred)"
   ]
  }
 ],
 "metadata": {
  "kernelspec": {
   "display_name": "Python 3 (ipykernel)",
   "language": "python",
   "name": "python3"
  },
  "language_info": {
   "codemirror_mode": {
    "name": "ipython",
    "version": 3
   },
   "file_extension": ".py",
   "mimetype": "text/x-python",
   "name": "python",
   "nbconvert_exporter": "python",
   "pygments_lexer": "ipython3",
   "version": "3.11.4"
  },
  "toc-autonumbering": true
 },
 "nbformat": 4,
 "nbformat_minor": 5
}
